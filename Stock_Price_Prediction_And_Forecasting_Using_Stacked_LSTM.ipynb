{
  "cells": [
    {
      "cell_type": "code",
      "execution_count": null,
      "metadata": {
        "id": "F5JrWUZ6MuZP"
      },
      "outputs": [],
      "source": [
        "#Data Collection\n",
        "import pandas_datareader as pdr #pandas_datareader is a Python library that simplifies the process of accessing and retrieving financial data from various online sources.\n"
      ]
    },
    {
      "cell_type": "code",
      "execution_count": null,
      "metadata": {
        "colab": {
          "base_uri": "https://localhost:8080/"
        },
        "id": "jO2iuitiQEXw",
        "outputId": "1c747da7-e785-43f2-e180-d735e9fc0a64"
      },
      "outputs": [
        {
          "output_type": "stream",
          "name": "stdout",
          "text": [
            "Requirement already satisfied: pandas in /usr/local/lib/python3.10/dist-packages (2.1.4)\n",
            "Collecting pandas\n",
            "  Downloading pandas-2.2.2-cp310-cp310-manylinux_2_17_x86_64.manylinux2014_x86_64.whl.metadata (19 kB)\n",
            "Requirement already satisfied: pandas_datareader in /usr/local/lib/python3.10/dist-packages (0.10.0)\n",
            "Requirement already satisfied: numpy>=1.22.4 in /usr/local/lib/python3.10/dist-packages (from pandas) (1.26.4)\n",
            "Requirement already satisfied: python-dateutil>=2.8.2 in /usr/local/lib/python3.10/dist-packages (from pandas) (2.8.2)\n",
            "Requirement already satisfied: pytz>=2020.1 in /usr/local/lib/python3.10/dist-packages (from pandas) (2024.1)\n",
            "Requirement already satisfied: tzdata>=2022.7 in /usr/local/lib/python3.10/dist-packages (from pandas) (2024.1)\n",
            "Requirement already satisfied: lxml in /usr/local/lib/python3.10/dist-packages (from pandas_datareader) (4.9.4)\n",
            "Requirement already satisfied: requests>=2.19.0 in /usr/local/lib/python3.10/dist-packages (from pandas_datareader) (2.32.3)\n",
            "Requirement already satisfied: six>=1.5 in /usr/local/lib/python3.10/dist-packages (from python-dateutil>=2.8.2->pandas) (1.16.0)\n",
            "Requirement already satisfied: charset-normalizer<4,>=2 in /usr/local/lib/python3.10/dist-packages (from requests>=2.19.0->pandas_datareader) (3.3.2)\n",
            "Requirement already satisfied: idna<4,>=2.5 in /usr/local/lib/python3.10/dist-packages (from requests>=2.19.0->pandas_datareader) (3.7)\n",
            "Requirement already satisfied: urllib3<3,>=1.21.1 in /usr/local/lib/python3.10/dist-packages (from requests>=2.19.0->pandas_datareader) (2.0.7)\n",
            "Requirement already satisfied: certifi>=2017.4.17 in /usr/local/lib/python3.10/dist-packages (from requests>=2.19.0->pandas_datareader) (2024.7.4)\n",
            "Downloading pandas-2.2.2-cp310-cp310-manylinux_2_17_x86_64.manylinux2014_x86_64.whl (13.0 MB)\n",
            "\u001b[2K   \u001b[90m━━━━━━━━━━━━━━━━━━━━━━━━━━━━━━━━━━━━━━━━\u001b[0m \u001b[32m13.0/13.0 MB\u001b[0m \u001b[31m32.4 MB/s\u001b[0m eta \u001b[36m0:00:00\u001b[0m\n",
            "\u001b[?25hInstalling collected packages: pandas\n",
            "  Attempting uninstall: pandas\n",
            "    Found existing installation: pandas 2.1.4\n",
            "    Uninstalling pandas-2.1.4:\n",
            "      Successfully uninstalled pandas-2.1.4\n",
            "\u001b[31mERROR: pip's dependency resolver does not currently take into account all the packages that are installed. This behaviour is the source of the following dependency conflicts.\n",
            "cudf-cu12 24.4.1 requires pandas<2.2.2dev0,>=2.0, but you have pandas 2.2.2 which is incompatible.\n",
            "google-colab 1.0.0 requires pandas==2.1.4, but you have pandas 2.2.2 which is incompatible.\u001b[0m\u001b[31m\n",
            "\u001b[0mSuccessfully installed pandas-2.2.2\n"
          ]
        }
      ],
      "source": [
        "pip install --upgrade pandas pandas_datareader"
      ]
    },
    {
      "cell_type": "code",
      "execution_count": null,
      "metadata": {
        "colab": {
          "base_uri": "https://localhost:8080/",
          "height": 529
        },
        "id": "XIcq0ITUQJ9w",
        "outputId": "2d7b9459-6f79-4c77-fd83-950a22a7845c"
      },
      "outputs": [
        {
          "output_type": "stream",
          "name": "stdout",
          "text": [
            "Collecting pandas==1.3.3\n",
            "  Downloading pandas-1.3.3-cp310-cp310-manylinux_2_17_x86_64.manylinux2014_x86_64.whl.metadata (11 kB)\n",
            "Requirement already satisfied: numpy>=1.17.3 in /usr/local/lib/python3.10/dist-packages (from pandas==1.3.3) (1.26.4)\n",
            "Requirement already satisfied: python-dateutil>=2.7.3 in /usr/local/lib/python3.10/dist-packages (from pandas==1.3.3) (2.8.2)\n",
            "Requirement already satisfied: pytz>=2017.3 in /usr/local/lib/python3.10/dist-packages (from pandas==1.3.3) (2024.1)\n",
            "Requirement already satisfied: six>=1.5 in /usr/local/lib/python3.10/dist-packages (from python-dateutil>=2.7.3->pandas==1.3.3) (1.16.0)\n",
            "Downloading pandas-1.3.3-cp310-cp310-manylinux_2_17_x86_64.manylinux2014_x86_64.whl (11.5 MB)\n",
            "\u001b[2K   \u001b[90m━━━━━━━━━━━━━━━━━━━━━━━━━━━━━━━━━━━━━━━━\u001b[0m \u001b[32m11.5/11.5 MB\u001b[0m \u001b[31m27.7 MB/s\u001b[0m eta \u001b[36m0:00:00\u001b[0m\n",
            "\u001b[?25hInstalling collected packages: pandas\n",
            "  Attempting uninstall: pandas\n",
            "    Found existing installation: pandas 2.2.2\n",
            "    Uninstalling pandas-2.2.2:\n",
            "      Successfully uninstalled pandas-2.2.2\n",
            "\u001b[31mERROR: pip's dependency resolver does not currently take into account all the packages that are installed. This behaviour is the source of the following dependency conflicts.\n",
            "arviz 0.18.0 requires pandas>=1.5.0, but you have pandas 1.3.3 which is incompatible.\n",
            "bigframes 1.15.0 requires pandas>=1.5.0, but you have pandas 1.3.3 which is incompatible.\n",
            "cudf-cu12 24.4.1 requires pandas<2.2.2dev0,>=2.0, but you have pandas 1.3.3 which is incompatible.\n",
            "geopandas 0.14.4 requires pandas>=1.4.0, but you have pandas 1.3.3 which is incompatible.\n",
            "google-colab 1.0.0 requires pandas==2.1.4, but you have pandas 1.3.3 which is incompatible.\n",
            "mizani 0.9.3 requires pandas>=1.3.5, but you have pandas 1.3.3 which is incompatible.\n",
            "plotnine 0.12.4 requires pandas>=1.5.0, but you have pandas 1.3.3 which is incompatible.\n",
            "statsmodels 0.14.2 requires pandas!=2.1.0,>=1.4, but you have pandas 1.3.3 which is incompatible.\n",
            "xarray 2024.6.0 requires pandas>=2.0, but you have pandas 1.3.3 which is incompatible.\u001b[0m\u001b[31m\n",
            "\u001b[0mSuccessfully installed pandas-1.3.3\n"
          ]
        },
        {
          "output_type": "display_data",
          "data": {
            "application/vnd.colab-display-data+json": {
              "pip_warning": {
                "packages": [
                  "pandas"
                ]
              },
              "id": "499f831768894009a80d36b3aff60cac"
            }
          },
          "metadata": {}
        }
      ],
      "source": [
        "pip install pandas==1.3.3"
      ]
    },
    {
      "cell_type": "code",
      "execution_count": null,
      "metadata": {
        "colab": {
          "base_uri": "https://localhost:8080/"
        },
        "id": "ZePOgs9kOuHQ",
        "outputId": "2770420d-ee0b-40cf-c919-84c137d9c59e"
      },
      "outputs": [
        {
          "output_type": "stream",
          "name": "stderr",
          "text": [
            "/usr/local/lib/python3.10/dist-packages/pandas_datareader/tiingo.py:234: FutureWarning: In a future version of pandas all arguments of concat except for the argument 'objs' will be keyword-only\n",
            "  return pd.concat(dfs, self._concat_axis)\n"
          ]
        }
      ],
      "source": [
        "import pandas_datareader as pdr\n",
        "\n",
        "df = pdr.get_data_tiingo('GOOG', api_key='9fc1177d60e08cfe92dc467656690883e07f78ca')\n"
      ]
    },
    {
      "cell_type": "code",
      "execution_count": null,
      "metadata": {
        "id": "BlsBI5C8OuEM"
      },
      "outputs": [],
      "source": [
        "df.head()"
      ]
    },
    {
      "cell_type": "code",
      "execution_count": null,
      "metadata": {
        "id": "vBwUCHkJOuBs"
      },
      "outputs": [],
      "source": [
        "df.tail()"
      ]
    },
    {
      "cell_type": "code",
      "execution_count": null,
      "metadata": {
        "id": "0BHNDSvcOt-6"
      },
      "outputs": [],
      "source": [
        "df1= df.reset_index()['close']"
      ]
    },
    {
      "cell_type": "code",
      "execution_count": null,
      "metadata": {
        "id": "9OOtCsH1Ot8F"
      },
      "outputs": [],
      "source": [
        "df1.shape"
      ]
    },
    {
      "cell_type": "code",
      "execution_count": null,
      "metadata": {
        "id": "OpR4VyApOt5W"
      },
      "outputs": [],
      "source": [
        "df1"
      ]
    },
    {
      "cell_type": "code",
      "execution_count": null,
      "metadata": {
        "id": "21pTMBXvOt2v",
        "colab": {
          "base_uri": "https://localhost:8080/",
          "height": 447
        },
        "outputId": "a69deee2-b44a-423b-8d24-e764a1375978"
      },
      "outputs": [
        {
          "output_type": "execute_result",
          "data": {
            "text/plain": [
              "[<matplotlib.lines.Line2D at 0x7e665020fbe0>]"
            ]
          },
          "metadata": {},
          "execution_count": 4
        },
        {
          "output_type": "display_data",
          "data": {
            "text/plain": [
              "<Figure size 640x480 with 1 Axes>"
            ],
            "image/png": "[encoded data removed]"
          },
          "metadata": {}
        }
      ],
      "source": [
        "import matplotlib.pyplot as plt\n",
        "plt.plot(df1) #This line creates a line plot using the data from df1.\n"
      ]
    },
    {
      "cell_type": "code",
      "execution_count": null,
      "metadata": {
        "id": "bGXjcQxmOty_"
      },
      "outputs": [],
      "source": [
        "#LSTM are sensitive to the scale of the data. So we will use MinMax Scaler(Where we will transforming our data from 0 to 1)\n",
        "import numpy as np\n",
        "from sklearn.preprocessing import MinMaxScaler\n",
        "scaler=MinMaxScaler(feature_range=(0,1)) #This means that the scaler will transform the data to fit within the range [0, 1]\n",
        "df1=scaler.fit_transform(np.array(df1).reshape(-1,1)) #reshape(-1, 1) converts a 1D array into a 2D array with one column, automatically adjusting the number of rows, making it suitable for operations that need 2D input.\n",
        "\n",
        "#After transforming the value we can see now our data is in a array shape of value 0 to 1"
      ]
    },
    {
      "cell_type": "code",
      "execution_count": null,
      "metadata": {
        "id": "OVFHYceTXu6m"
      },
      "outputs": [],
      "source": [
        "df1"
      ]
    },
    {
      "cell_type": "code",
      "execution_count": null,
      "metadata": {
        "id": "HIpguABZZqbT"
      },
      "outputs": [],
      "source": [
        "#Splitting dataset into Train Test split\n",
        "training_size=int(len(df1)*0.65) #Calculates the number of data points to be used for training\n",
        "test_size=len(df1)-training_size #Calculates the number of data points to be used for testing\n",
        "train_data,test_data=df1[0:training_size,:],df1[training_size:len(df1),:1]\n",
        "#df1[0:training_size, :]: Selects rows from the start (0) up to training_size for training data. : indicates all columns are included.\n",
        "#df1[training_size:len(df1), :1]: Selects rows from training_size to the end for test data. :1 selects only the first column\n"
      ]
    },
    {
      "cell_type": "code",
      "execution_count": null,
      "metadata": {
        "id": "sDNn1rBGjhrT"
      },
      "outputs": [],
      "source": [
        "training_size,test_size"
      ]
    },
    {
      "cell_type": "code",
      "execution_count": null,
      "metadata": {
        "id": "sFjos-3jjyJ5"
      },
      "outputs": [],
      "source": [
        "train_data"
      ]
    },
    {
      "cell_type": "code",
      "source": [
        "import numpy #for numerical computations and handling arrays in Python\n",
        "# convert an array of values into a dataset matrix\n",
        "def create_dataset(dataset, time_step=1): # create_dataset that converts a given array (time series data) into a dataset matrix suitable for machine learning. dataset: The input array of values, typically a time series. time_step=1: The number of previous time steps to consider as input features. This is set to 1 by default but can be adjusted.\n",
        "\tdataX, dataY = [], [] # Initializes two empty lists,which will store the input sequences (features) and corresponding output values (labels) respectively\n",
        "\tfor i in range(len(dataset)-time_step-1): #Loops through the dataset to create sequences of data. The loop runs from index 0 to len(dataset) - time_step - 1, ensuring that each sequence has the required time_step length without going out of bounds\n",
        "\t\ta = dataset[i:(i+time_step), 0]   ###i=0, 0,1,2,3-----99   100 Extracts a sequence of data points from the dataset. Slices the dataset from the current index i to i + time_step. The , 0 ensures that only the first column is selected, assuming dataset is a 2D array where each row has multiple features\n",
        "\t\tdataX.append(a) #This list will eventually contain all the sequences of features (input data) used for training.\n",
        "\t\tdataY.append(dataset[i + time_step, 0]) #This represents the corresponding target value (output) that the model should predict after seeing the sequence in dataX\n",
        "\treturn numpy.array(dataX), numpy.array(dataY) #Converts the dataX and dataY lists into NumPy arrays and returns them"
      ],
      "metadata": {
        "id": "dhAB-7rF6ib3"
      },
      "execution_count": null,
      "outputs": []
    },
    {
      "cell_type": "code",
      "source": [
        "# reshape into X=t,t+1,t+2,t+3 and Y=t+4\n",
        "time_step = 100 #the model will look at the previous 100 data points to make a prediction\n",
        "X_train, y_train = create_dataset(train_data, time_step) #Creates sequences of 100 time steps as inputs (X_train) and the value at t+1 as the output (y_train) from the training data.\n",
        "X_test, ytest = create_dataset(test_data, time_step) #Does the same for the test data, producing X_test and ytest."
      ],
      "metadata": {
        "id": "W7su-_mN6iYV"
      },
      "execution_count": null,
      "outputs": []
    },
    {
      "cell_type": "code",
      "source": [
        "print(X_train.shape) #Displays the number of sequences and the length of each sequence in the training data.\n",
        "print(y_train.shape) #Displays the number of target values (one for each sequence) in the training data.\n"
      ],
      "metadata": {
        "colab": {
          "base_uri": "https://localhost:8080/"
        },
        "id": "5YB0JUNa6iVN",
        "outputId": "fd9b77d6-482f-4a94-e146-a54896b98ed3"
      },
      "execution_count": null,
      "outputs": [
        {
          "output_type": "stream",
          "name": "stdout",
          "text": [
            "(715, 100)\n",
            "(715,)\n"
          ]
        }
      ]
    },
    {
      "cell_type": "code",
      "source": [
        "print(X_test.shape), print(ytest.shape)\n"
      ],
      "metadata": {
        "id": "cg0aKech6iSN"
      },
      "execution_count": null,
      "outputs": []
    },
    {
      "cell_type": "code",
      "source": [
        "# reshape input to be [samples, time steps, features] which is required for LSTM\n",
        "X_train =X_train.reshape(X_train.shape[0],X_train.shape[1] , 1) #reshape method changes the shape of X_train to have 3 dimensions: [number of samples, number of time steps, number of features]. This is necessary because LSTM models expect input in this 3D format.\n",
        "X_test = X_test.reshape(X_test.shape[0],X_test.shape[1] , 1)"
      ],
      "metadata": {
        "id": "GpQgmL5s6iPA"
      },
      "execution_count": null,
      "outputs": []
    },
    {
      "cell_type": "code",
      "source": [
        "### Create the Stacked LSTM model\n",
        "from tensorflow.keras.models import Sequential #Sequential: Used to build a model where layers are added one by one\n",
        "from tensorflow.keras.layers import Dense #Dense: Adds a fully connected layer, often used for making final predictions in the model.\n",
        "from tensorflow.keras.layers import LSTM #LSTM: Adds a layer that processes sequential data, capturing patterns across time steps."
      ],
      "metadata": {
        "id": "UMpcdKwR6iLG"
      },
      "execution_count": null,
      "outputs": []
    },
    {
      "cell_type": "code",
      "source": [
        "model=Sequential()\n",
        "model.add(LSTM(50,return_sequences=True,input_shape=(100,1)))\n",
        "model.add(LSTM(50,return_sequences=True))\n",
        "model.add(LSTM(50))\n",
        "model.add(Dense(1))\n",
        "model.compile(loss='mean_squared_error',optimizer='adam')"
      ],
      "metadata": {
        "colab": {
          "base_uri": "https://localhost:8080/"
        },
        "id": "zRdpX7Ms1JGw",
        "outputId": "b32571bd-c7f7-4c46-b694-cdb4060e74bb"
      },
      "execution_count": null,
      "outputs": [
        {
          "output_type": "stream",
          "name": "stderr",
          "text": [
            "/usr/local/lib/python3.10/dist-packages/keras/src/layers/rnn/rnn.py:204: UserWarning: Do not pass an `input_shape`/`input_dim` argument to a layer. When using Sequential models, prefer using an `Input(shape)` object as the first layer in the model instead.\n",
            "  super().__init__(**kwargs)\n"
          ]
        }
      ]
    },
    {
      "cell_type": "code",
      "source": [
        "model.summary()"
      ],
      "metadata": {
        "colab": {
          "base_uri": "https://localhost:8080/",
          "height": 257
        },
        "id": "3VHQqysY1I2X",
        "outputId": "cbc2e758-c354-4feb-d86b-c87182472b6c"
      },
      "execution_count": null,
      "outputs": [
        {
          "output_type": "display_data",
          "data": {
            "text/plain": [
              "\u001b[1mModel: \"sequential\"\u001b[0m\n"
            ],
            "text/html": [
              "<pre style=\"white-space:pre;overflow-x:auto;line-height:normal;font-family:Menlo,'DejaVu Sans Mono',consolas,'Courier New',monospace\"><span style=\"font-weight: bold\">Model: \"sequential\"</span>\n",
              "</pre>\n"
            ]
          },
          "metadata": {}
        },
        {
          "output_type": "display_data",
          "data": {
            "text/plain": [
              "┏━━━━━━━━━━━━━━━━━━━━━━━━━━━━━━━━━━━━━━┳━━━━━━━━━━━━━━━━━━━━━━━━━━━━━┳━━━━━━━━━━━━━━━━━┓\n",
              "┃\u001b[1m \u001b[0m\u001b[1mLayer (type)                        \u001b[0m\u001b[1m \u001b[0m┃\u001b[1m \u001b[0m\u001b[1mOutput Shape               \u001b[0m\u001b[1m \u001b[0m┃\u001b[1m \u001b[0m\u001b[1m        Param #\u001b[0m\u001b[1m \u001b[0m┃\n",
              "┡━━━━━━━━━━━━━━━━━━━━━━━━━━━━━━━━━━━━━━╇━━━━━━━━━━━━━━━━━━━━━━━━━━━━━╇━━━━━━━━━━━━━━━━━┩\n",
              "│ lstm (\u001b[38;5;33mLSTM\u001b[0m)                          │ (\u001b[38;5;45mNone\u001b[0m, \u001b[38;5;34m100\u001b[0m, \u001b[38;5;34m50\u001b[0m)             │          \u001b[38;5;34m10,400\u001b[0m │\n",
              "├──────────────────────────────────────┼─────────────────────────────┼─────────────────┤\n",
              "│ lstm_1 (\u001b[38;5;33mLSTM\u001b[0m)                        │ (\u001b[38;5;45mNone\u001b[0m, \u001b[38;5;34m100\u001b[0m, \u001b[38;5;34m50\u001b[0m)             │          \u001b[38;5;34m20,200\u001b[0m │\n",
              "├──────────────────────────────────────┼─────────────────────────────┼─────────────────┤\n",
              "│ lstm_2 (\u001b[38;5;33mLSTM\u001b[0m)                        │ (\u001b[38;5;45mNone\u001b[0m, \u001b[38;5;34m50\u001b[0m)                  │          \u001b[38;5;34m20,200\u001b[0m │\n",
              "├──────────────────────────────────────┼─────────────────────────────┼─────────────────┤\n",
              "│ dense (\u001b[38;5;33mDense\u001b[0m)                        │ (\u001b[38;5;45mNone\u001b[0m, \u001b[38;5;34m1\u001b[0m)                   │              \u001b[38;5;34m51\u001b[0m │\n",
              "└──────────────────────────────────────┴─────────────────────────────┴─────────────────┘\n"
            ],
            "text/html": [
              "<pre style=\"white-space:pre;overflow-x:auto;line-height:normal;font-family:Menlo,'DejaVu Sans Mono',consolas,'Courier New',monospace\">┏━━━━━━━━━━━━━━━━━━━━━━━━━━━━━━━━━━━━━━┳━━━━━━━━━━━━━━━━━━━━━━━━━━━━━┳━━━━━━━━━━━━━━━━━┓\n",
              "┃<span style=\"font-weight: bold\"> Layer (type)                         </span>┃<span style=\"font-weight: bold\"> Output Shape                </span>┃<span style=\"font-weight: bold\">         Param # </span>┃\n",
              "┡━━━━━━━━━━━━━━━━━━━━━━━━━━━━━━━━━━━━━━╇━━━━━━━━━━━━━━━━━━━━━━━━━━━━━╇━━━━━━━━━━━━━━━━━┩\n",
              "│ lstm (<span style=\"color: #0087ff; text-decoration-color: #0087ff\">LSTM</span>)                          │ (<span style=\"color: #00d7ff; text-decoration-color: #00d7ff\">None</span>, <span style=\"color: #00af00; text-decoration-color: #00af00\">100</span>, <span style=\"color: #00af00; text-decoration-color: #00af00\">50</span>)             │          <span style=\"color: #00af00; text-decoration-color: #00af00\">10,400</span> │\n",
              "├──────────────────────────────────────┼─────────────────────────────┼─────────────────┤\n",
              "│ lstm_1 (<span style=\"color: #0087ff; text-decoration-color: #0087ff\">LSTM</span>)                        │ (<span style=\"color: #00d7ff; text-decoration-color: #00d7ff\">None</span>, <span style=\"color: #00af00; text-decoration-color: #00af00\">100</span>, <span style=\"color: #00af00; text-decoration-color: #00af00\">50</span>)             │          <span style=\"color: #00af00; text-decoration-color: #00af00\">20,200</span> │\n",
              "├──────────────────────────────────────┼─────────────────────────────┼─────────────────┤\n",
              "│ lstm_2 (<span style=\"color: #0087ff; text-decoration-color: #0087ff\">LSTM</span>)                        │ (<span style=\"color: #00d7ff; text-decoration-color: #00d7ff\">None</span>, <span style=\"color: #00af00; text-decoration-color: #00af00\">50</span>)                  │          <span style=\"color: #00af00; text-decoration-color: #00af00\">20,200</span> │\n",
              "├──────────────────────────────────────┼─────────────────────────────┼─────────────────┤\n",
              "│ dense (<span style=\"color: #0087ff; text-decoration-color: #0087ff\">Dense</span>)                        │ (<span style=\"color: #00d7ff; text-decoration-color: #00d7ff\">None</span>, <span style=\"color: #00af00; text-decoration-color: #00af00\">1</span>)                   │              <span style=\"color: #00af00; text-decoration-color: #00af00\">51</span> │\n",
              "└──────────────────────────────────────┴─────────────────────────────┴─────────────────┘\n",
              "</pre>\n"
            ]
          },
          "metadata": {}
        },
        {
          "output_type": "display_data",
          "data": {
            "text/plain": [
              "\u001b[1m Total params: \u001b[0m\u001b[38;5;34m50,851\u001b[0m (198.64 KB)\n"
            ],
            "text/html": [
              "<pre style=\"white-space:pre;overflow-x:auto;line-height:normal;font-family:Menlo,'DejaVu Sans Mono',consolas,'Courier New',monospace\"><span style=\"font-weight: bold\"> Total params: </span><span style=\"color: #00af00; text-decoration-color: #00af00\">50,851</span> (198.64 KB)\n",
              "</pre>\n"
            ]
          },
          "metadata": {}
        },
        {
          "output_type": "display_data",
          "data": {
            "text/plain": [
              "\u001b[1m Trainable params: \u001b[0m\u001b[38;5;34m50,851\u001b[0m (198.64 KB)\n"
            ],
            "text/html": [
              "<pre style=\"white-space:pre;overflow-x:auto;line-height:normal;font-family:Menlo,'DejaVu Sans Mono',consolas,'Courier New',monospace\"><span style=\"font-weight: bold\"> Trainable params: </span><span style=\"color: #00af00; text-decoration-color: #00af00\">50,851</span> (198.64 KB)\n",
              "</pre>\n"
            ]
          },
          "metadata": {}
        },
        {
          "output_type": "display_data",
          "data": {
            "text/plain": [
              "\u001b[1m Non-trainable params: \u001b[0m\u001b[38;5;34m0\u001b[0m (0.00 B)\n"
            ],
            "text/html": [
              "<pre style=\"white-space:pre;overflow-x:auto;line-height:normal;font-family:Menlo,'DejaVu Sans Mono',consolas,'Courier New',monospace\"><span style=\"font-weight: bold\"> Non-trainable params: </span><span style=\"color: #00af00; text-decoration-color: #00af00\">0</span> (0.00 B)\n",
              "</pre>\n"
            ]
          },
          "metadata": {}
        }
      ]
    },
    {
      "cell_type": "code",
      "source": [
        "model.fit(X_train,y_train,validation_data=(X_test,ytest),epochs=100,batch_size=64,verbose=1)"
      ],
      "metadata": {
        "colab": {
          "base_uri": "https://localhost:8080/"
        },
        "id": "6z-rHw0i1Iy8",
        "outputId": "b61e02f1-0379-4e79-a1b3-96bac265b980"
      },
      "execution_count": null,
      "outputs": [
        {
          "output_type": "stream",
          "name": "stdout",
          "text": [
            "Epoch 1/100\n",
            "\u001b[1m12/12\u001b[0m \u001b[32m━━━━━━━━━━━━━━━━━━━━\u001b[0m\u001b[37m\u001b[0m \u001b[1m9s\u001b[0m 254ms/step - loss: 0.2774 - val_loss: 0.0221\n",
            "Epoch 2/100\n",
            "\u001b[1m12/12\u001b[0m \u001b[32m━━━━━━━━━━━━━━━━━━━━\u001b[0m\u001b[37m\u001b[0m \u001b[1m4s\u001b[0m 181ms/step - loss: 0.0303 - val_loss: 0.0280\n",
            "Epoch 3/100\n",
            "\u001b[1m12/12\u001b[0m \u001b[32m━━━━━━━━━━━━━━━━━━━━\u001b[0m\u001b[37m\u001b[0m \u001b[1m2s\u001b[0m 176ms/step - loss: 0.0154 - val_loss: 0.0093\n",
            "Epoch 4/100\n",
            "\u001b[1m12/12\u001b[0m \u001b[32m━━━━━━━━━━━━━━━━━━━━\u001b[0m\u001b[37m\u001b[0m \u001b[1m4s\u001b[0m 298ms/step - loss: 0.0112 - val_loss: 0.0037\n",
            "Epoch 5/100\n",
            "\u001b[1m12/12\u001b[0m \u001b[32m━━━━━━━━━━━━━━━━━━━━\u001b[0m\u001b[37m\u001b[0m \u001b[1m2s\u001b[0m 178ms/step - loss: 0.0089 - val_loss: 2.3742e-04\n",
            "Epoch 6/100\n",
            "\u001b[1m12/12\u001b[0m \u001b[32m━━━━━━━━━━━━━━━━━━━━\u001b[0m\u001b[37m\u001b[0m \u001b[1m2s\u001b[0m 177ms/step - loss: 0.0087 - val_loss: 1.0795e-04\n",
            "Epoch 7/100\n",
            "\u001b[1m12/12\u001b[0m \u001b[32m━━━━━━━━━━━━━━━━━━━━\u001b[0m\u001b[37m\u001b[0m \u001b[1m2s\u001b[0m 180ms/step - loss: 0.0080 - val_loss: 2.0372e-04\n",
            "Epoch 8/100\n",
            "\u001b[1m12/12\u001b[0m \u001b[32m━━━━━━━━━━━━━━━━━━━━\u001b[0m\u001b[37m\u001b[0m \u001b[1m2s\u001b[0m 177ms/step - loss: 0.0066 - val_loss: 6.1662e-05\n",
            "Epoch 9/100\n",
            "\u001b[1m12/12\u001b[0m \u001b[32m━━━━━━━━━━━━━━━━━━━━\u001b[0m\u001b[37m\u001b[0m \u001b[1m3s\u001b[0m 263ms/step - loss: 0.0074 - val_loss: 5.7410e-06\n",
            "Epoch 10/100\n",
            "\u001b[1m12/12\u001b[0m \u001b[32m━━━━━━━━━━━━━━━━━━━━\u001b[0m\u001b[37m\u001b[0m \u001b[1m4s\u001b[0m 177ms/step - loss: 0.0047 - val_loss: 2.3593e-05\n",
            "Epoch 11/100\n",
            "\u001b[1m12/12\u001b[0m \u001b[32m━━━━━━━━━━━━━━━━━━━━\u001b[0m\u001b[37m\u001b[0m \u001b[1m2s\u001b[0m 177ms/step - loss: 0.0080 - val_loss: 3.0144e-05\n",
            "Epoch 12/100\n",
            "\u001b[1m12/12\u001b[0m \u001b[32m━━━━━━━━━━━━━━━━━━━━\u001b[0m\u001b[37m\u001b[0m \u001b[1m2s\u001b[0m 176ms/step - loss: 0.0054 - val_loss: 6.8506e-05\n",
            "Epoch 13/100\n",
            "\u001b[1m12/12\u001b[0m \u001b[32m━━━━━━━━━━━━━━━━━━━━\u001b[0m\u001b[37m\u001b[0m \u001b[1m2s\u001b[0m 176ms/step - loss: 0.0072 - val_loss: 9.2882e-05\n",
            "Epoch 14/100\n",
            "\u001b[1m12/12\u001b[0m \u001b[32m━━━━━━━━━━━━━━━━━━━━\u001b[0m\u001b[37m\u001b[0m \u001b[1m4s\u001b[0m 299ms/step - loss: 0.0062 - val_loss: 1.2948e-04\n",
            "Epoch 15/100\n",
            "\u001b[1m12/12\u001b[0m \u001b[32m━━━━━━━━━━━━━━━━━━━━\u001b[0m\u001b[37m\u001b[0m \u001b[1m4s\u001b[0m 179ms/step - loss: 0.0060 - val_loss: 1.6122e-04\n",
            "Epoch 16/100\n",
            "\u001b[1m12/12\u001b[0m \u001b[32m━━━━━━━━━━━━━━━━━━━━\u001b[0m\u001b[37m\u001b[0m \u001b[1m3s\u001b[0m 177ms/step - loss: 0.0062 - val_loss: 7.8545e-05\n",
            "Epoch 17/100\n",
            "\u001b[1m12/12\u001b[0m \u001b[32m━━━━━━━━━━━━━━━━━━━━\u001b[0m\u001b[37m\u001b[0m \u001b[1m3s\u001b[0m 180ms/step - loss: 0.0051 - val_loss: 9.1246e-05\n",
            "Epoch 18/100\n",
            "\u001b[1m12/12\u001b[0m \u001b[32m━━━━━━━━━━━━━━━━━━━━\u001b[0m\u001b[37m\u001b[0m \u001b[1m3s\u001b[0m 250ms/step - loss: 0.0063 - val_loss: 1.6653e-04\n",
            "Epoch 19/100\n",
            "\u001b[1m12/12\u001b[0m \u001b[32m━━━━━━━━━━━━━━━━━━━━\u001b[0m\u001b[37m\u001b[0m \u001b[1m4s\u001b[0m 177ms/step - loss: 0.0056 - val_loss: 1.5569e-04\n",
            "Epoch 20/100\n",
            "\u001b[1m12/12\u001b[0m \u001b[32m━━━━━━━━━━━━━━━━━━━━\u001b[0m\u001b[37m\u001b[0m \u001b[1m2s\u001b[0m 176ms/step - loss: 0.0048 - val_loss: 5.3205e-05\n",
            "Epoch 21/100\n",
            "\u001b[1m12/12\u001b[0m \u001b[32m━━━━━━━━━━━━━━━━━━━━\u001b[0m\u001b[37m\u001b[0m \u001b[1m2s\u001b[0m 178ms/step - loss: 0.0055 - val_loss: 1.0586e-04\n",
            "Epoch 22/100\n",
            "\u001b[1m12/12\u001b[0m \u001b[32m━━━━━━━━━━━━━━━━━━━━\u001b[0m\u001b[37m\u001b[0m \u001b[1m2s\u001b[0m 177ms/step - loss: 0.0037 - val_loss: 3.0110e-05\n",
            "Epoch 23/100\n",
            "\u001b[1m12/12\u001b[0m \u001b[32m━━━━━━━━━━━━━━━━━━━━\u001b[0m\u001b[37m\u001b[0m \u001b[1m4s\u001b[0m 289ms/step - loss: 0.0027 - val_loss: 1.1807e-04\n",
            "Epoch 24/100\n",
            "\u001b[1m12/12\u001b[0m \u001b[32m━━━━━━━━━━━━━━━━━━━━\u001b[0m\u001b[37m\u001b[0m \u001b[1m2s\u001b[0m 177ms/step - loss: 0.0037 - val_loss: 3.6889e-05\n",
            "Epoch 25/100\n",
            "\u001b[1m12/12\u001b[0m \u001b[32m━━━━━━━━━━━━━━━━━━━━\u001b[0m\u001b[37m\u001b[0m \u001b[1m2s\u001b[0m 176ms/step - loss: 0.0059 - val_loss: 8.1679e-05\n",
            "Epoch 26/100\n",
            "\u001b[1m12/12\u001b[0m \u001b[32m━━━━━━━━━━━━━━━━━━━━\u001b[0m\u001b[37m\u001b[0m \u001b[1m3s\u001b[0m 178ms/step - loss: 0.0030 - val_loss: 2.0661e-05\n",
            "Epoch 27/100\n",
            "\u001b[1m12/12\u001b[0m \u001b[32m━━━━━━━━━━━━━━━━━━━━\u001b[0m\u001b[37m\u001b[0m \u001b[1m2s\u001b[0m 177ms/step - loss: 0.0025 - val_loss: 2.3081e-05\n",
            "Epoch 28/100\n",
            "\u001b[1m12/12\u001b[0m \u001b[32m━━━━━━━━━━━━━━━━━━━━\u001b[0m\u001b[37m\u001b[0m \u001b[1m4s\u001b[0m 272ms/step - loss: 0.0033 - val_loss: 4.8730e-05\n",
            "Epoch 29/100\n",
            "\u001b[1m12/12\u001b[0m \u001b[32m━━━━━━━━━━━━━━━━━━━━\u001b[0m\u001b[37m\u001b[0m \u001b[1m4s\u001b[0m 179ms/step - loss: 0.0068 - val_loss: 1.5438e-05\n",
            "Epoch 30/100\n",
            "\u001b[1m12/12\u001b[0m \u001b[32m━━━━━━━━━━━━━━━━━━━━\u001b[0m\u001b[37m\u001b[0m \u001b[1m2s\u001b[0m 176ms/step - loss: 0.0041 - val_loss: 2.9848e-05\n",
            "Epoch 31/100\n",
            "\u001b[1m12/12\u001b[0m \u001b[32m━━━━━━━━━━━━━━━━━━━━\u001b[0m\u001b[37m\u001b[0m \u001b[1m2s\u001b[0m 178ms/step - loss: 0.0031 - val_loss: 2.0246e-05\n",
            "Epoch 32/100\n",
            "\u001b[1m12/12\u001b[0m \u001b[32m━━━━━━━━━━━━━━━━━━━━\u001b[0m\u001b[37m\u001b[0m \u001b[1m2s\u001b[0m 197ms/step - loss: 0.0028 - val_loss: 7.9435e-06\n",
            "Epoch 33/100\n",
            "\u001b[1m12/12\u001b[0m \u001b[32m━━━━━━━━━━━━━━━━━━━━\u001b[0m\u001b[37m\u001b[0m \u001b[1m3s\u001b[0m 283ms/step - loss: 0.0035 - val_loss: 1.6010e-05\n",
            "Epoch 34/100\n",
            "\u001b[1m12/12\u001b[0m \u001b[32m━━━━━━━━━━━━━━━━━━━━\u001b[0m\u001b[37m\u001b[0m \u001b[1m4s\u001b[0m 177ms/step - loss: 0.0040 - val_loss: 2.9084e-06\n",
            "Epoch 35/100\n",
            "\u001b[1m12/12\u001b[0m \u001b[32m━━━━━━━━━━━━━━━━━━━━\u001b[0m\u001b[37m\u001b[0m \u001b[1m3s\u001b[0m 177ms/step - loss: 0.0027 - val_loss: 3.1818e-06\n",
            "Epoch 36/100\n",
            "\u001b[1m12/12\u001b[0m \u001b[32m━━━━━━━━━━━━━━━━━━━━\u001b[0m\u001b[37m\u001b[0m \u001b[1m2s\u001b[0m 177ms/step - loss: 0.0053 - val_loss: 4.7005e-06\n",
            "Epoch 37/100\n",
            "\u001b[1m12/12\u001b[0m \u001b[32m━━━━━━━━━━━━━━━━━━━━\u001b[0m\u001b[37m\u001b[0m \u001b[1m3s\u001b[0m 229ms/step - loss: 0.0019 - val_loss: 2.4254e-05\n",
            "Epoch 38/100\n",
            "\u001b[1m12/12\u001b[0m \u001b[32m━━━━━━━━━━━━━━━━━━━━\u001b[0m\u001b[37m\u001b[0m \u001b[1m5s\u001b[0m 178ms/step - loss: 0.0046 - val_loss: 4.7122e-05\n",
            "Epoch 39/100\n",
            "\u001b[1m12/12\u001b[0m \u001b[32m━━━━━━━━━━━━━━━━━━━━\u001b[0m\u001b[37m\u001b[0m \u001b[1m2s\u001b[0m 178ms/step - loss: 0.0056 - val_loss: 3.9718e-06\n",
            "Epoch 40/100\n",
            "\u001b[1m12/12\u001b[0m \u001b[32m━━━━━━━━━━━━━━━━━━━━\u001b[0m\u001b[37m\u001b[0m \u001b[1m2s\u001b[0m 179ms/step - loss: 0.0036 - val_loss: 3.3821e-05\n",
            "Epoch 41/100\n",
            "\u001b[1m12/12\u001b[0m \u001b[32m━━━━━━━━━━━━━━━━━━━━\u001b[0m\u001b[37m\u001b[0m \u001b[1m2s\u001b[0m 177ms/step - loss: 0.0018 - val_loss: 3.2007e-05\n",
            "Epoch 42/100\n",
            "\u001b[1m12/12\u001b[0m \u001b[32m━━━━━━━━━━━━━━━━━━━━\u001b[0m\u001b[37m\u001b[0m \u001b[1m3s\u001b[0m 298ms/step - loss: 0.0034 - val_loss: 1.8804e-05\n",
            "Epoch 43/100\n",
            "\u001b[1m12/12\u001b[0m \u001b[32m━━━━━━━━━━━━━━━━━━━━\u001b[0m\u001b[37m\u001b[0m \u001b[1m4s\u001b[0m 177ms/step - loss: 0.0027 - val_loss: 4.5747e-06\n",
            "Epoch 44/100\n",
            "\u001b[1m12/12\u001b[0m \u001b[32m━━━━━━━━━━━━━━━━━━━━\u001b[0m\u001b[37m\u001b[0m \u001b[1m3s\u001b[0m 177ms/step - loss: 0.0023 - val_loss: 6.7246e-06\n",
            "Epoch 45/100\n",
            "\u001b[1m12/12\u001b[0m \u001b[32m━━━━━━━━━━━━━━━━━━━━\u001b[0m\u001b[37m\u001b[0m \u001b[1m2s\u001b[0m 175ms/step - loss: 0.0018 - val_loss: 6.5589e-06\n",
            "Epoch 46/100\n",
            "\u001b[1m12/12\u001b[0m \u001b[32m━━━━━━━━━━━━━━━━━━━━\u001b[0m\u001b[37m\u001b[0m \u001b[1m3s\u001b[0m 210ms/step - loss: 0.0032 - val_loss: 8.1425e-06\n",
            "Epoch 47/100\n",
            "\u001b[1m12/12\u001b[0m \u001b[32m━━━━━━━━━━━━━━━━━━━━\u001b[0m\u001b[37m\u001b[0m \u001b[1m3s\u001b[0m 268ms/step - loss: 0.0028 - val_loss: 2.9249e-05\n",
            "Epoch 48/100\n",
            "\u001b[1m12/12\u001b[0m \u001b[32m━━━━━━━━━━━━━━━━━━━━\u001b[0m\u001b[37m\u001b[0m \u001b[1m2s\u001b[0m 177ms/step - loss: 0.0017 - val_loss: 1.0875e-05\n",
            "Epoch 49/100\n",
            "\u001b[1m12/12\u001b[0m \u001b[32m━━━━━━━━━━━━━━━━━━━━\u001b[0m\u001b[37m\u001b[0m \u001b[1m2s\u001b[0m 176ms/step - loss: 0.0027 - val_loss: 3.9672e-05\n",
            "Epoch 50/100\n",
            "\u001b[1m12/12\u001b[0m \u001b[32m━━━━━━━━━━━━━━━━━━━━\u001b[0m\u001b[37m\u001b[0m \u001b[1m2s\u001b[0m 177ms/step - loss: 0.0022 - val_loss: 5.1594e-06\n",
            "Epoch 51/100\n",
            "\u001b[1m12/12\u001b[0m \u001b[32m━━━━━━━━━━━━━━━━━━━━\u001b[0m\u001b[37m\u001b[0m \u001b[1m2s\u001b[0m 179ms/step - loss: 0.0022 - val_loss: 2.2485e-05\n",
            "Epoch 52/100\n",
            "\u001b[1m12/12\u001b[0m \u001b[32m━━━━━━━━━━━━━━━━━━━━\u001b[0m\u001b[37m\u001b[0m \u001b[1m4s\u001b[0m 275ms/step - loss: 0.0029 - val_loss: 2.5631e-05\n",
            "Epoch 53/100\n",
            "\u001b[1m12/12\u001b[0m \u001b[32m━━━━━━━━━━━━━━━━━━━━\u001b[0m\u001b[37m\u001b[0m \u001b[1m4s\u001b[0m 177ms/step - loss: 0.0025 - val_loss: 9.1522e-06\n",
            "Epoch 54/100\n",
            "\u001b[1m12/12\u001b[0m \u001b[32m━━━━━━━━━━━━━━━━━━━━\u001b[0m\u001b[37m\u001b[0m \u001b[1m3s\u001b[0m 189ms/step - loss: 0.0026 - val_loss: 1.2297e-05\n",
            "Epoch 55/100\n",
            "\u001b[1m12/12\u001b[0m \u001b[32m━━━━━━━━━━━━━━━━━━━━\u001b[0m\u001b[37m\u001b[0m \u001b[1m2s\u001b[0m 184ms/step - loss: 0.0018 - val_loss: 1.4149e-05\n",
            "Epoch 56/100\n",
            "\u001b[1m12/12\u001b[0m \u001b[32m━━━━━━━━━━━━━━━━━━━━\u001b[0m\u001b[37m\u001b[0m \u001b[1m3s\u001b[0m 246ms/step - loss: 0.0011 - val_loss: 8.4123e-06\n",
            "Epoch 57/100\n",
            "\u001b[1m12/12\u001b[0m \u001b[32m━━━━━━━━━━━━━━━━━━━━\u001b[0m\u001b[37m\u001b[0m \u001b[1m4s\u001b[0m 186ms/step - loss: 0.0023 - val_loss: 9.9115e-06\n",
            "Epoch 58/100\n",
            "\u001b[1m12/12\u001b[0m \u001b[32m━━━━━━━━━━━━━━━━━━━━\u001b[0m\u001b[37m\u001b[0m \u001b[1m2s\u001b[0m 183ms/step - loss: 0.0021 - val_loss: 4.6133e-06\n",
            "Epoch 59/100\n",
            "\u001b[1m12/12\u001b[0m \u001b[32m━━━━━━━━━━━━━━━━━━━━\u001b[0m\u001b[37m\u001b[0m \u001b[1m3s\u001b[0m 183ms/step - loss: 0.0028 - val_loss: 9.0968e-06\n",
            "Epoch 60/100\n",
            "\u001b[1m12/12\u001b[0m \u001b[32m━━━━━━━━━━━━━━━━━━━━\u001b[0m\u001b[37m\u001b[0m \u001b[1m2s\u001b[0m 205ms/step - loss: 0.0031 - val_loss: 3.0689e-06\n",
            "Epoch 61/100\n",
            "\u001b[1m12/12\u001b[0m \u001b[32m━━━━━━━━━━━━━━━━━━━━\u001b[0m\u001b[37m\u001b[0m \u001b[1m4s\u001b[0m 295ms/step - loss: 0.0014 - val_loss: 4.6976e-06\n",
            "Epoch 62/100\n",
            "\u001b[1m12/12\u001b[0m \u001b[32m━━━━━━━━━━━━━━━━━━━━\u001b[0m\u001b[37m\u001b[0m \u001b[1m4s\u001b[0m 177ms/step - loss: 0.0015 - val_loss: 5.0980e-06\n",
            "Epoch 63/100\n",
            "\u001b[1m12/12\u001b[0m \u001b[32m━━━━━━━━━━━━━━━━━━━━\u001b[0m\u001b[37m\u001b[0m \u001b[1m3s\u001b[0m 179ms/step - loss: 0.0019 - val_loss: 1.0077e-05\n",
            "Epoch 64/100\n",
            "\u001b[1m12/12\u001b[0m \u001b[32m━━━━━━━━━━━━━━━━━━━━\u001b[0m\u001b[37m\u001b[0m \u001b[1m2s\u001b[0m 177ms/step - loss: 0.0018 - val_loss: 6.6396e-06\n",
            "Epoch 65/100\n",
            "\u001b[1m12/12\u001b[0m \u001b[32m━━━━━━━━━━━━━━━━━━━━\u001b[0m\u001b[37m\u001b[0m \u001b[1m3s\u001b[0m 252ms/step - loss: 9.2825e-04 - val_loss: 2.4004e-06\n",
            "Epoch 66/100\n",
            "\u001b[1m12/12\u001b[0m \u001b[32m━━━━━━━━━━━━━━━━━━━━\u001b[0m\u001b[37m\u001b[0m \u001b[1m4s\u001b[0m 177ms/step - loss: 0.0015 - val_loss: 2.4546e-06\n",
            "Epoch 67/100\n",
            "\u001b[1m12/12\u001b[0m \u001b[32m━━━━━━━━━━━━━━━━━━━━\u001b[0m\u001b[37m\u001b[0m \u001b[1m3s\u001b[0m 183ms/step - loss: 0.0023 - val_loss: 8.6075e-06\n",
            "Epoch 68/100\n",
            "\u001b[1m12/12\u001b[0m \u001b[32m━━━━━━━━━━━━━━━━━━━━\u001b[0m\u001b[37m\u001b[0m \u001b[1m3s\u001b[0m 251ms/step - loss: 0.0015 - val_loss: 2.9512e-06\n",
            "Epoch 69/100\n",
            "\u001b[1m12/12\u001b[0m \u001b[32m━━━━━━━━━━━━━━━━━━━━\u001b[0m\u001b[37m\u001b[0m \u001b[1m6s\u001b[0m 296ms/step - loss: 0.0032 - val_loss: 4.9823e-06\n",
            "Epoch 70/100\n",
            "\u001b[1m12/12\u001b[0m \u001b[32m━━━━━━━━━━━━━━━━━━━━\u001b[0m\u001b[37m\u001b[0m \u001b[1m4s\u001b[0m 180ms/step - loss: 0.0014 - val_loss: 2.5669e-05\n",
            "Epoch 71/100\n",
            "\u001b[1m12/12\u001b[0m \u001b[32m━━━━━━━━━━━━━━━━━━━━\u001b[0m\u001b[37m\u001b[0m \u001b[1m4s\u001b[0m 304ms/step - loss: 0.0024 - val_loss: 2.9006e-06\n",
            "Epoch 72/100\n",
            "\u001b[1m12/12\u001b[0m \u001b[32m━━━━━━━━━━━━━━━━━━━━\u001b[0m\u001b[37m\u001b[0m \u001b[1m4s\u001b[0m 239ms/step - loss: 0.0013 - val_loss: 4.9653e-06\n",
            "Epoch 73/100\n",
            "\u001b[1m12/12\u001b[0m \u001b[32m━━━━━━━━━━━━━━━━━━━━\u001b[0m\u001b[37m\u001b[0m \u001b[1m4s\u001b[0m 177ms/step - loss: 0.0019 - val_loss: 4.3651e-06\n",
            "Epoch 74/100\n",
            "\u001b[1m12/12\u001b[0m \u001b[32m━━━━━━━━━━━━━━━━━━━━\u001b[0m\u001b[37m\u001b[0m \u001b[1m2s\u001b[0m 182ms/step - loss: 0.0021 - val_loss: 1.6961e-05\n",
            "Epoch 75/100\n",
            "\u001b[1m12/12\u001b[0m \u001b[32m━━━━━━━━━━━━━━━━━━━━\u001b[0m\u001b[37m\u001b[0m \u001b[1m5s\u001b[0m 357ms/step - loss: 0.0015 - val_loss: 1.0918e-05\n",
            "Epoch 76/100\n",
            "\u001b[1m12/12\u001b[0m \u001b[32m━━━━━━━━━━━━━━━━━━━━\u001b[0m\u001b[37m\u001b[0m \u001b[1m4s\u001b[0m 365ms/step - loss: 0.0014 - val_loss: 2.4912e-06\n",
            "Epoch 77/100\n",
            "\u001b[1m12/12\u001b[0m \u001b[32m━━━━━━━━━━━━━━━━━━━━\u001b[0m\u001b[37m\u001b[0m \u001b[1m3s\u001b[0m 180ms/step - loss: 0.0017 - val_loss: 7.5727e-06\n",
            "Epoch 78/100\n",
            "\u001b[1m12/12\u001b[0m \u001b[32m━━━━━━━━━━━━━━━━━━━━\u001b[0m\u001b[37m\u001b[0m \u001b[1m2s\u001b[0m 176ms/step - loss: 0.0010 - val_loss: 6.0561e-06\n",
            "Epoch 79/100\n",
            "\u001b[1m12/12\u001b[0m \u001b[32m━━━━━━━━━━━━━━━━━━━━\u001b[0m\u001b[37m\u001b[0m \u001b[1m2s\u001b[0m 176ms/step - loss: 0.0027 - val_loss: 1.2030e-05\n",
            "Epoch 80/100\n",
            "\u001b[1m12/12\u001b[0m \u001b[32m━━━━━━━━━━━━━━━━━━━━\u001b[0m\u001b[37m\u001b[0m \u001b[1m3s\u001b[0m 273ms/step - loss: 0.0013 - val_loss: 2.4169e-06\n",
            "Epoch 81/100\n",
            "\u001b[1m12/12\u001b[0m \u001b[32m━━━━━━━━━━━━━━━━━━━━\u001b[0m\u001b[37m\u001b[0m \u001b[1m4s\u001b[0m 178ms/step - loss: 9.2968e-04 - val_loss: 4.8913e-06\n",
            "Epoch 82/100\n",
            "\u001b[1m12/12\u001b[0m \u001b[32m━━━━━━━━━━━━━━━━━━━━\u001b[0m\u001b[37m\u001b[0m \u001b[1m2s\u001b[0m 176ms/step - loss: 6.9846e-04 - val_loss: 1.7808e-05\n",
            "Epoch 83/100\n",
            "\u001b[1m12/12\u001b[0m \u001b[32m━━━━━━━━━━━━━━━━━━━━\u001b[0m\u001b[37m\u001b[0m \u001b[1m3s\u001b[0m 177ms/step - loss: 0.0018 - val_loss: 2.3626e-06\n",
            "Epoch 84/100\n",
            "\u001b[1m12/12\u001b[0m \u001b[32m━━━━━━━━━━━━━━━━━━━━\u001b[0m\u001b[37m\u001b[0m \u001b[1m4s\u001b[0m 266ms/step - loss: 0.0011 - val_loss: 4.4663e-06\n",
            "Epoch 85/100\n",
            "\u001b[1m12/12\u001b[0m \u001b[32m━━━━━━━━━━━━━━━━━━━━\u001b[0m\u001b[37m\u001b[0m \u001b[1m4s\u001b[0m 300ms/step - loss: 6.5194e-04 - val_loss: 2.1100e-05\n",
            "Epoch 86/100\n",
            "\u001b[1m12/12\u001b[0m \u001b[32m━━━━━━━━━━━━━━━━━━━━\u001b[0m\u001b[37m\u001b[0m \u001b[1m4s\u001b[0m 207ms/step - loss: 0.0024 - val_loss: 5.6927e-06\n",
            "Epoch 87/100\n",
            "\u001b[1m12/12\u001b[0m \u001b[32m━━━━━━━━━━━━━━━━━━━━\u001b[0m\u001b[37m\u001b[0m \u001b[1m3s\u001b[0m 205ms/step - loss: 0.0015 - val_loss: 4.6669e-06\n",
            "Epoch 88/100\n",
            "\u001b[1m12/12\u001b[0m \u001b[32m━━━━━━━━━━━━━━━━━━━━\u001b[0m\u001b[37m\u001b[0m \u001b[1m5s\u001b[0m 246ms/step - loss: 0.0013 - val_loss: 9.7292e-05\n",
            "Epoch 89/100\n",
            "\u001b[1m12/12\u001b[0m \u001b[32m━━━━━━━━━━━━━━━━━━━━\u001b[0m\u001b[37m\u001b[0m \u001b[1m6s\u001b[0m 468ms/step - loss: 0.0042 - val_loss: 3.3765e-05\n",
            "Epoch 90/100\n",
            "\u001b[1m12/12\u001b[0m \u001b[32m━━━━━━━━━━━━━━━━━━━━\u001b[0m\u001b[37m\u001b[0m \u001b[1m7s\u001b[0m 178ms/step - loss: 0.0035 - val_loss: 3.8244e-05\n",
            "Epoch 91/100\n",
            "\u001b[1m12/12\u001b[0m \u001b[32m━━━━━━━━━━━━━━━━━━━━\u001b[0m\u001b[37m\u001b[0m \u001b[1m5s\u001b[0m 396ms/step - loss: 0.0010 - val_loss: 3.3599e-05\n",
            "Epoch 92/100\n",
            "\u001b[1m12/12\u001b[0m \u001b[32m━━━━━━━━━━━━━━━━━━━━\u001b[0m\u001b[37m\u001b[0m \u001b[1m2s\u001b[0m 178ms/step - loss: 0.0015 - val_loss: 5.3159e-06\n",
            "Epoch 93/100\n",
            "\u001b[1m12/12\u001b[0m \u001b[32m━━━━━━━━━━━━━━━━━━━━\u001b[0m\u001b[37m\u001b[0m \u001b[1m2s\u001b[0m 177ms/step - loss: 0.0013 - val_loss: 4.2282e-06\n",
            "Epoch 94/100\n",
            "\u001b[1m12/12\u001b[0m \u001b[32m━━━━━━━━━━━━━━━━━━━━\u001b[0m\u001b[37m\u001b[0m \u001b[1m3s\u001b[0m 240ms/step - loss: 0.0013 - val_loss: 8.4478e-06\n",
            "Epoch 95/100\n",
            "\u001b[1m12/12\u001b[0m \u001b[32m━━━━━━━━━━━━━━━━━━━━\u001b[0m\u001b[37m\u001b[0m \u001b[1m2s\u001b[0m 184ms/step - loss: 0.0016 - val_loss: 2.2600e-06\n",
            "Epoch 96/100\n",
            "\u001b[1m12/12\u001b[0m \u001b[32m━━━━━━━━━━━━━━━━━━━━\u001b[0m\u001b[37m\u001b[0m \u001b[1m4s\u001b[0m 306ms/step - loss: 8.1384e-04 - val_loss: 4.1775e-06\n",
            "Epoch 97/100\n",
            "\u001b[1m12/12\u001b[0m \u001b[32m━━━━━━━━━━━━━━━━━━━━\u001b[0m\u001b[37m\u001b[0m \u001b[1m4s\u001b[0m 177ms/step - loss: 0.0010 - val_loss: 2.8413e-06\n",
            "Epoch 98/100\n",
            "\u001b[1m12/12\u001b[0m \u001b[32m━━━━━━━━━━━━━━━━━━━━\u001b[0m\u001b[37m\u001b[0m \u001b[1m3s\u001b[0m 177ms/step - loss: 0.0014 - val_loss: 2.4934e-06\n",
            "Epoch 99/100\n",
            "\u001b[1m12/12\u001b[0m \u001b[32m━━━━━━━━━━━━━━━━━━━━\u001b[0m\u001b[37m\u001b[0m \u001b[1m3s\u001b[0m 178ms/step - loss: 0.0015 - val_loss: 3.8566e-06\n",
            "Epoch 100/100\n",
            "\u001b[1m12/12\u001b[0m \u001b[32m━━━━━━━━━━━━━━━━━━━━\u001b[0m\u001b[37m\u001b[0m \u001b[1m4s\u001b[0m 266ms/step - loss: 8.7385e-04 - val_loss: 6.0761e-06\n"
          ]
        },
        {
          "output_type": "execute_result",
          "data": {
            "text/plain": [
              "<keras.src.callbacks.history.History at 0x7e66dd450f70>"
            ]
          },
          "metadata": {},
          "execution_count": 14
        }
      ]
    },
    {
      "cell_type": "code",
      "source": [
        "import tensorflow as tf\n",
        "tf.__version__"
      ],
      "metadata": {
        "colab": {
          "base_uri": "https://localhost:8080/",
          "height": 36
        },
        "id": "3fQ0HaXQ2KQv",
        "outputId": "7519896c-1eac-4207-f463-24aea887a20d"
      },
      "execution_count": null,
      "outputs": [
        {
          "output_type": "execute_result",
          "data": {
            "text/plain": [
              "'2.17.0'"
            ],
            "application/vnd.google.colaboratory.intrinsic+json": {
              "type": "string"
            }
          },
          "metadata": {},
          "execution_count": 15
        }
      ]
    },
    {
      "cell_type": "code",
      "source": [
        "### Lets Do the prediction and check performance metrics\n",
        "train_predict=model.predict(X_train)\n",
        "test_predict=model.predict(X_test)"
      ],
      "metadata": {
        "colab": {
          "base_uri": "https://localhost:8080/"
        },
        "id": "3TefoUEu2KNH",
        "outputId": "d76cdd4b-d95b-401c-853d-1d4146b061a1"
      },
      "execution_count": null,
      "outputs": [
        {
          "output_type": "stream",
          "name": "stdout",
          "text": [
            "\u001b[1m23/23\u001b[0m \u001b[32m━━━━━━━━━━━━━━━━━━━━\u001b[0m\u001b[37m\u001b[0m \u001b[1m3s\u001b[0m 81ms/step\n",
            "\u001b[1m11/11\u001b[0m \u001b[32m━━━━━━━━━━━━━━━━━━━━\u001b[0m\u001b[37m\u001b[0m \u001b[1m0s\u001b[0m 37ms/step\n"
          ]
        }
      ]
    },
    {
      "cell_type": "code",
      "source": [
        "##Transformback to original form\n",
        "train_predict=scaler.inverse_transform(train_predict)\n",
        "test_predict=scaler.inverse_transform(test_predict)"
      ],
      "metadata": {
        "id": "ZNYDiV392KJ9"
      },
      "execution_count": null,
      "outputs": []
    },
    {
      "cell_type": "code",
      "source": [
        "### Calculate RMSE performance metrics\n",
        "import math\n",
        "from sklearn.metrics import mean_squared_error\n",
        "math.sqrt(mean_squared_error(y_train,train_predict))"
      ],
      "metadata": {
        "colab": {
          "base_uri": "https://localhost:8080/"
        },
        "id": "sSQINEig2KG2",
        "outputId": "af45d4c4-c5a2-4c7e-8400-724aef41122f"
      },
      "execution_count": null,
      "outputs": [
        {
          "output_type": "execute_result",
          "data": {
            "text/plain": [
              "2123.7682598617707"
            ]
          },
          "metadata": {},
          "execution_count": 18
        }
      ]
    },
    {
      "cell_type": "code",
      "source": [
        "### Test Data RMSE\n",
        "math.sqrt(mean_squared_error(ytest,test_predict))"
      ],
      "metadata": {
        "colab": {
          "base_uri": "https://localhost:8080/"
        },
        "id": "S5s-bOSI3HWG",
        "outputId": "fbd46f87-69f7-472a-e2c2-abd5a145810d"
      },
      "execution_count": null,
      "outputs": [
        {
          "output_type": "execute_result",
          "data": {
            "text/plain": [
              "151.94679753737836"
            ]
          },
          "metadata": {},
          "execution_count": 20
        }
      ]
    },
    {
      "cell_type": "code",
      "source": [
        "### Plotting\n",
        "# shift train predictions for plotting\n",
        "look_back=100\n",
        "trainPredictPlot = numpy.empty_like(df1)\n",
        "trainPredictPlot[:, :] = np.nan\n",
        "trainPredictPlot[look_back:len(train_predict)+look_back, :] = train_predict\n",
        "# shift test predictions for plotting\n",
        "testPredictPlot = numpy.empty_like(df1)\n",
        "testPredictPlot[:, :] = numpy.nan\n",
        "testPredictPlot[len(train_predict)+(look_back*2)+1:len(df1)-1, :] = test_predict\n",
        "# plot baseline and predictions\n",
        "plt.plot(scaler.inverse_transform(df1))\n",
        "plt.plot(trainPredictPlot)\n",
        "plt.plot(testPredictPlot)\n",
        "plt.show()"
      ],
      "metadata": {
        "colab": {
          "base_uri": "https://localhost:8080/",
          "height": 430
        },
        "id": "B03-D4Dd3HSg",
        "outputId": "038983c4-f903-4e8f-8d71-beac3538844a"
      },
      "execution_count": null,
      "outputs": [
        {
          "output_type": "display_data",
          "data": {
            "text/plain": [
              "<Figure size 640x480 with 1 Axes>"
            ],
            "image/png": "[encoded data removed]"
          },
          "metadata": {}
        }
      ]
    },
    {
      "cell_type": "code",
      "source": [
        "len(test_data)"
      ],
      "metadata": {
        "colab": {
          "base_uri": "https://localhost:8080/"
        },
        "id": "b1eD61gk3HPv",
        "outputId": "16d3fff5-38d3-4aaf-8c95-a3814680f847"
      },
      "execution_count": null,
      "outputs": [
        {
          "output_type": "execute_result",
          "data": {
            "text/plain": [
              "440"
            ]
          },
          "metadata": {},
          "execution_count": 22
        }
      ]
    },
    {
      "cell_type": "code",
      "source": [
        "x_input=test_data[340:].reshape(1,-1)\n",
        "x_input.shape"
      ],
      "metadata": {
        "colab": {
          "base_uri": "https://localhost:8080/"
        },
        "id": "OkNJ9FHg3TAN",
        "outputId": "cc0d3a7d-9fd9-4532-f61b-4d05a8881a75"
      },
      "execution_count": null,
      "outputs": [
        {
          "output_type": "execute_result",
          "data": {
            "text/plain": [
              "(1, 100)"
            ]
          },
          "metadata": {},
          "execution_count": 37
        }
      ]
    },
    {
      "cell_type": "code",
      "source": [
        "temp_input=list(x_input)\n",
        "temp_input=temp_input[0].tolist()"
      ],
      "metadata": {
        "id": "Jz_Q1SUW3S8v"
      },
      "execution_count": null,
      "outputs": []
    },
    {
      "cell_type": "code",
      "source": [
        "temp_input"
      ],
      "metadata": {
        "colab": {
          "base_uri": "https://localhost:8080/"
        },
        "id": "X9Isy0Y53S5t",
        "outputId": "b3cd24de-eed5-4052-f6b2-7481add617c3"
      },
      "execution_count": null,
      "outputs": [
        {
          "output_type": "execute_result",
          "data": {
            "text/plain": [
              "[0.024038707608105937,\n",
              " 0.024789384069963043,\n",
              " 0.025471817217105865,\n",
              " 0.025308033261791592,\n",
              " 0.026376041137070105,\n",
              " 0.025830094619355846,\n",
              " 0.024854215218941617,\n",
              " 0.024741613749663046,\n",
              " 0.02504188433440589,\n",
              " 0.025239789947077308,\n",
              " 0.02464607310906305,\n",
              " 0.0254069860681273,\n",
              " 0.026079182718062973,\n",
              " 0.026481818274877247,\n",
              " 0.0254069860681273,\n",
              " 0.030777734936141315,\n",
              " 0.028802090975162845,\n",
              " 0.02768972494532004,\n",
              " 0.028007056358741452,\n",
              " 0.028993172256362835,\n",
              " 0.029174017040355684,\n",
              " 0.029460638962155675,\n",
              " 0.03053547116890561,\n",
              " 0.029914457005005644,\n",
              " 0.030057767965905643,\n",
              " 0.029617598585998512,\n",
              " 0.029825740695877078,\n",
              " 0.030177193766655636,\n",
              " 0.03084256608511988,\n",
              " 0.03137145177415558,\n",
              " 0.03200611460099839,\n",
              " 0.032405337992076955,\n",
              " 0.032773851891534075,\n",
              " 0.032248378368234104,\n",
              " 0.03124520164193415,\n",
              " 0.031678546690369846,\n",
              " 0.032255202699705526,\n",
              " 0.032043648424091256,\n",
              " 0.030733376781577035,\n",
              " 0.0308698634110056,\n",
              " 0.031026823034848442,\n",
              " 0.03126908680208415,\n",
              " 0.03193104695481269,\n",
              " 0.03236780416898409,\n",
              " 0.0315488843924127,\n",
              " 0.031780911662441264,\n",
              " 0.03231320951721267,\n",
              " 0.0327806762230055,\n",
              " 0.03181844548553413,\n",
              " 0.03237462850045553,\n",
              " 0.03251452729561981,\n",
              " 0.03171949267919841,\n",
              " 0.0321494255618984,\n",
              " 0.033019527824505485,\n",
              " 0.03320037260849834,\n",
              " 0.03483479999590541,\n",
              " 0.03476314451545541,\n",
              " 0.03527155721007681,\n",
              " 0.034097772196991144,\n",
              " 0.03446287393071257,\n",
              " 0.035186253066683965,\n",
              " 0.035452401994069654,\n",
              " 0.03701176173529101,\n",
              " 0.03650676120640532,\n",
              " 0.036493112543462464,\n",
              " 0.037250613336791,\n",
              " 0.03542169250244824,\n",
              " 0.035244259884191095,\n",
              " 0.03572537525292678,\n",
              " 0.03480750267001968,\n",
              " 0.03382479893813402,\n",
              " 0.03266466258799122,\n",
              " 0.03272266940549835,\n",
              " 0.03407388703684115,\n",
              " 0.034159191180234,\n",
              " 0.03100976220616988,\n",
              " 0.029232023857862822,\n",
              " 0.02906823990254855,\n",
              " 0.029904220507798503,\n",
              " 0.030153308606505638,\n",
              " 0.030593477986412754,\n",
              " 0.03035462638491276,\n",
              " 0.028972699261948554,\n",
              " 0.02632485865103439,\n",
              " 0.02629073699367725,\n",
              " 0.026362392474127253,\n",
              " 0.027416751686462914,\n",
              " 0.027945637375498596,\n",
              " 0.027454285509555764,\n",
              " 0.028129894325227164,\n",
              " 0.02679914968829866,\n",
              " 0.02718813658217006,\n",
              " 0.027723846602677186,\n",
              " 0.028972699261948554,\n",
              " 0.029163780543148544,\n",
              " 0.02870996250029856,\n",
              " 0.027979759032855742,\n",
              " 0.028641719185584284,\n",
              " 0.028812327472369986,\n",
              " 0.028283441783334296]"
            ]
          },
          "metadata": {},
          "execution_count": 39
        }
      ]
    },
    {
      "cell_type": "code",
      "source": [
        "# demonstrate prediction for next 10 days\n",
        "from numpy import array\n",
        "\n",
        "lst_output=[]\n",
        "n_steps=100\n",
        "i=0\n",
        "while(i<30):\n",
        "\n",
        "    if(len(temp_input)>100):\n",
        "        #print(temp_input)\n",
        "        x_input=np.array(temp_input[1:])\n",
        "        print(\"{} day input {}\".format(i,x_input))\n",
        "        x_input=x_input.reshape(1,-1)\n",
        "        x_input = x_input.reshape((1, n_steps, 1))\n",
        "        #print(x_input)\n",
        "        yhat = model.predict(x_input, verbose=0)\n",
        "        print(\"{} day output {}\".format(i,yhat))\n",
        "        temp_input.extend(yhat[0].tolist())\n",
        "        temp_input=temp_input[1:]\n",
        "        #print(temp_input)\n",
        "        lst_output.extend(yhat.tolist())\n",
        "        i=i+1\n",
        "    else:\n",
        "        x_input = x_input.reshape((1, n_steps,1))\n",
        "        yhat = model.predict(x_input, verbose=0)\n",
        "        print(yhat[0])\n",
        "        temp_input.extend(yhat[0].tolist())\n",
        "        print(len(temp_input))\n",
        "        lst_output.extend(yhat.tolist())\n",
        "        i=i+1\n",
        "\n",
        "\n",
        "print(lst_output)"
      ],
      "metadata": {
        "colab": {
          "base_uri": "https://localhost:8080/"
        },
        "id": "S_OiJK_x3S3F",
        "outputId": "40a79796-daed-4048-c9ef-c074bac06ef2"
      },
      "execution_count": null,
      "outputs": [
        {
          "output_type": "stream",
          "name": "stdout",
          "text": [
            "[0.03117864]\n",
            "101\n",
            "1 day input [0.02478938 0.02547182 0.02530803 0.02637604 0.02583009 0.02485422\n",
            " 0.02474161 0.02504188 0.02523979 0.02464607 0.02540699 0.02607918\n",
            " 0.02648182 0.02540699 0.03077773 0.02880209 0.02768972 0.02800706\n",
            " 0.02899317 0.02917402 0.02946064 0.03053547 0.02991446 0.03005777\n",
            " 0.0296176  0.02982574 0.03017719 0.03084257 0.03137145 0.03200611\n",
            " 0.03240534 0.03277385 0.03224838 0.0312452  0.03167855 0.0322552\n",
            " 0.03204365 0.03073338 0.03086986 0.03102682 0.03126909 0.03193105\n",
            " 0.0323678  0.03154888 0.03178091 0.03231321 0.03278068 0.03181845\n",
            " 0.03237463 0.03251453 0.03171949 0.03214943 0.03301953 0.03320037\n",
            " 0.0348348  0.03476314 0.03527156 0.03409777 0.03446287 0.03518625\n",
            " 0.0354524  0.03701176 0.03650676 0.03649311 0.03725061 0.03542169\n",
            " 0.03524426 0.03572538 0.0348075  0.0338248  0.03266466 0.03272267\n",
            " 0.03407389 0.03415919 0.03100976 0.02923202 0.02906824 0.02990422\n",
            " 0.03015331 0.03059348 0.03035463 0.0289727  0.02632486 0.02629074\n",
            " 0.02636239 0.02741675 0.02794564 0.02745429 0.02812989 0.02679915\n",
            " 0.02718814 0.02772385 0.0289727  0.02916378 0.02870996 0.02797976\n",
            " 0.02864172 0.02881233 0.02828344 0.03117864]\n",
            "1 day output [[0.03138558]]\n",
            "2 day input [0.02547182 0.02530803 0.02637604 0.02583009 0.02485422 0.02474161\n",
            " 0.02504188 0.02523979 0.02464607 0.02540699 0.02607918 0.02648182\n",
            " 0.02540699 0.03077773 0.02880209 0.02768972 0.02800706 0.02899317\n",
            " 0.02917402 0.02946064 0.03053547 0.02991446 0.03005777 0.0296176\n",
            " 0.02982574 0.03017719 0.03084257 0.03137145 0.03200611 0.03240534\n",
            " 0.03277385 0.03224838 0.0312452  0.03167855 0.0322552  0.03204365\n",
            " 0.03073338 0.03086986 0.03102682 0.03126909 0.03193105 0.0323678\n",
            " 0.03154888 0.03178091 0.03231321 0.03278068 0.03181845 0.03237463\n",
            " 0.03251453 0.03171949 0.03214943 0.03301953 0.03320037 0.0348348\n",
            " 0.03476314 0.03527156 0.03409777 0.03446287 0.03518625 0.0354524\n",
            " 0.03701176 0.03650676 0.03649311 0.03725061 0.03542169 0.03524426\n",
            " 0.03572538 0.0348075  0.0338248  0.03266466 0.03272267 0.03407389\n",
            " 0.03415919 0.03100976 0.02923202 0.02906824 0.02990422 0.03015331\n",
            " 0.03059348 0.03035463 0.0289727  0.02632486 0.02629074 0.02636239\n",
            " 0.02741675 0.02794564 0.02745429 0.02812989 0.02679915 0.02718814\n",
            " 0.02772385 0.0289727  0.02916378 0.02870996 0.02797976 0.02864172\n",
            " 0.02881233 0.02828344 0.03117864 0.03138558]\n",
            "2 day output [[0.03176479]]\n",
            "3 day input [0.02530803 0.02637604 0.02583009 0.02485422 0.02474161 0.02504188\n",
            " 0.02523979 0.02464607 0.02540699 0.02607918 0.02648182 0.02540699\n",
            " 0.03077773 0.02880209 0.02768972 0.02800706 0.02899317 0.02917402\n",
            " 0.02946064 0.03053547 0.02991446 0.03005777 0.0296176  0.02982574\n",
            " 0.03017719 0.03084257 0.03137145 0.03200611 0.03240534 0.03277385\n",
            " 0.03224838 0.0312452  0.03167855 0.0322552  0.03204365 0.03073338\n",
            " 0.03086986 0.03102682 0.03126909 0.03193105 0.0323678  0.03154888\n",
            " 0.03178091 0.03231321 0.03278068 0.03181845 0.03237463 0.03251453\n",
            " 0.03171949 0.03214943 0.03301953 0.03320037 0.0348348  0.03476314\n",
            " 0.03527156 0.03409777 0.03446287 0.03518625 0.0354524  0.03701176\n",
            " 0.03650676 0.03649311 0.03725061 0.03542169 0.03524426 0.03572538\n",
            " 0.0348075  0.0338248  0.03266466 0.03272267 0.03407389 0.03415919\n",
            " 0.03100976 0.02923202 0.02906824 0.02990422 0.03015331 0.03059348\n",
            " 0.03035463 0.0289727  0.02632486 0.02629074 0.02636239 0.02741675\n",
            " 0.02794564 0.02745429 0.02812989 0.02679915 0.02718814 0.02772385\n",
            " 0.0289727  0.02916378 0.02870996 0.02797976 0.02864172 0.02881233\n",
            " 0.02828344 0.03117864 0.03138558 0.03176479]\n",
            "3 day output [[0.03226971]]\n",
            "4 day input [0.02637604 0.02583009 0.02485422 0.02474161 0.02504188 0.02523979\n",
            " 0.02464607 0.02540699 0.02607918 0.02648182 0.02540699 0.03077773\n",
            " 0.02880209 0.02768972 0.02800706 0.02899317 0.02917402 0.02946064\n",
            " 0.03053547 0.02991446 0.03005777 0.0296176  0.02982574 0.03017719\n",
            " 0.03084257 0.03137145 0.03200611 0.03240534 0.03277385 0.03224838\n",
            " 0.0312452  0.03167855 0.0322552  0.03204365 0.03073338 0.03086986\n",
            " 0.03102682 0.03126909 0.03193105 0.0323678  0.03154888 0.03178091\n",
            " 0.03231321 0.03278068 0.03181845 0.03237463 0.03251453 0.03171949\n",
            " 0.03214943 0.03301953 0.03320037 0.0348348  0.03476314 0.03527156\n",
            " 0.03409777 0.03446287 0.03518625 0.0354524  0.03701176 0.03650676\n",
            " 0.03649311 0.03725061 0.03542169 0.03524426 0.03572538 0.0348075\n",
            " 0.0338248  0.03266466 0.03272267 0.03407389 0.03415919 0.03100976\n",
            " 0.02923202 0.02906824 0.02990422 0.03015331 0.03059348 0.03035463\n",
            " 0.0289727  0.02632486 0.02629074 0.02636239 0.02741675 0.02794564\n",
            " 0.02745429 0.02812989 0.02679915 0.02718814 0.02772385 0.0289727\n",
            " 0.02916378 0.02870996 0.02797976 0.02864172 0.02881233 0.02828344\n",
            " 0.03117864 0.03138558 0.03176479 0.03226971]\n",
            "4 day output [[0.03284906]]\n",
            "5 day input [0.02583009 0.02485422 0.02474161 0.02504188 0.02523979 0.02464607\n",
            " 0.02540699 0.02607918 0.02648182 0.02540699 0.03077773 0.02880209\n",
            " 0.02768972 0.02800706 0.02899317 0.02917402 0.02946064 0.03053547\n",
            " 0.02991446 0.03005777 0.0296176  0.02982574 0.03017719 0.03084257\n",
            " 0.03137145 0.03200611 0.03240534 0.03277385 0.03224838 0.0312452\n",
            " 0.03167855 0.0322552  0.03204365 0.03073338 0.03086986 0.03102682\n",
            " 0.03126909 0.03193105 0.0323678  0.03154888 0.03178091 0.03231321\n",
            " 0.03278068 0.03181845 0.03237463 0.03251453 0.03171949 0.03214943\n",
            " 0.03301953 0.03320037 0.0348348  0.03476314 0.03527156 0.03409777\n",
            " 0.03446287 0.03518625 0.0354524  0.03701176 0.03650676 0.03649311\n",
            " 0.03725061 0.03542169 0.03524426 0.03572538 0.0348075  0.0338248\n",
            " 0.03266466 0.03272267 0.03407389 0.03415919 0.03100976 0.02923202\n",
            " 0.02906824 0.02990422 0.03015331 0.03059348 0.03035463 0.0289727\n",
            " 0.02632486 0.02629074 0.02636239 0.02741675 0.02794564 0.02745429\n",
            " 0.02812989 0.02679915 0.02718814 0.02772385 0.0289727  0.02916378\n",
            " 0.02870996 0.02797976 0.02864172 0.02881233 0.02828344 0.03117864\n",
            " 0.03138558 0.03176479 0.03226971 0.03284906]\n",
            "5 day output [[0.03346609]]\n",
            "6 day input [0.02485422 0.02474161 0.02504188 0.02523979 0.02464607 0.02540699\n",
            " 0.02607918 0.02648182 0.02540699 0.03077773 0.02880209 0.02768972\n",
            " 0.02800706 0.02899317 0.02917402 0.02946064 0.03053547 0.02991446\n",
            " 0.03005777 0.0296176  0.02982574 0.03017719 0.03084257 0.03137145\n",
            " 0.03200611 0.03240534 0.03277385 0.03224838 0.0312452  0.03167855\n",
            " 0.0322552  0.03204365 0.03073338 0.03086986 0.03102682 0.03126909\n",
            " 0.03193105 0.0323678  0.03154888 0.03178091 0.03231321 0.03278068\n",
            " 0.03181845 0.03237463 0.03251453 0.03171949 0.03214943 0.03301953\n",
            " 0.03320037 0.0348348  0.03476314 0.03527156 0.03409777 0.03446287\n",
            " 0.03518625 0.0354524  0.03701176 0.03650676 0.03649311 0.03725061\n",
            " 0.03542169 0.03524426 0.03572538 0.0348075  0.0338248  0.03266466\n",
            " 0.03272267 0.03407389 0.03415919 0.03100976 0.02923202 0.02906824\n",
            " 0.02990422 0.03015331 0.03059348 0.03035463 0.0289727  0.02632486\n",
            " 0.02629074 0.02636239 0.02741675 0.02794564 0.02745429 0.02812989\n",
            " 0.02679915 0.02718814 0.02772385 0.0289727  0.02916378 0.02870996\n",
            " 0.02797976 0.02864172 0.02881233 0.02828344 0.03117864 0.03138558\n",
            " 0.03176479 0.03226971 0.03284906 0.03346609]\n",
            "6 day output [[0.03409974]]\n",
            "7 day input [0.02474161 0.02504188 0.02523979 0.02464607 0.02540699 0.02607918\n",
            " 0.02648182 0.02540699 0.03077773 0.02880209 0.02768972 0.02800706\n",
            " 0.02899317 0.02917402 0.02946064 0.03053547 0.02991446 0.03005777\n",
            " 0.0296176  0.02982574 0.03017719 0.03084257 0.03137145 0.03200611\n",
            " 0.03240534 0.03277385 0.03224838 0.0312452  0.03167855 0.0322552\n",
            " 0.03204365 0.03073338 0.03086986 0.03102682 0.03126909 0.03193105\n",
            " 0.0323678  0.03154888 0.03178091 0.03231321 0.03278068 0.03181845\n",
            " 0.03237463 0.03251453 0.03171949 0.03214943 0.03301953 0.03320037\n",
            " 0.0348348  0.03476314 0.03527156 0.03409777 0.03446287 0.03518625\n",
            " 0.0354524  0.03701176 0.03650676 0.03649311 0.03725061 0.03542169\n",
            " 0.03524426 0.03572538 0.0348075  0.0338248  0.03266466 0.03272267\n",
            " 0.03407389 0.03415919 0.03100976 0.02923202 0.02906824 0.02990422\n",
            " 0.03015331 0.03059348 0.03035463 0.0289727  0.02632486 0.02629074\n",
            " 0.02636239 0.02741675 0.02794564 0.02745429 0.02812989 0.02679915\n",
            " 0.02718814 0.02772385 0.0289727  0.02916378 0.02870996 0.02797976\n",
            " 0.02864172 0.02881233 0.02828344 0.03117864 0.03138558 0.03176479\n",
            " 0.03226971 0.03284906 0.03346609 0.03409974]\n",
            "7 day output [[0.03474013]]\n",
            "8 day input [0.02504188 0.02523979 0.02464607 0.02540699 0.02607918 0.02648182\n",
            " 0.02540699 0.03077773 0.02880209 0.02768972 0.02800706 0.02899317\n",
            " 0.02917402 0.02946064 0.03053547 0.02991446 0.03005777 0.0296176\n",
            " 0.02982574 0.03017719 0.03084257 0.03137145 0.03200611 0.03240534\n",
            " 0.03277385 0.03224838 0.0312452  0.03167855 0.0322552  0.03204365\n",
            " 0.03073338 0.03086986 0.03102682 0.03126909 0.03193105 0.0323678\n",
            " 0.03154888 0.03178091 0.03231321 0.03278068 0.03181845 0.03237463\n",
            " 0.03251453 0.03171949 0.03214943 0.03301953 0.03320037 0.0348348\n",
            " 0.03476314 0.03527156 0.03409777 0.03446287 0.03518625 0.0354524\n",
            " 0.03701176 0.03650676 0.03649311 0.03725061 0.03542169 0.03524426\n",
            " 0.03572538 0.0348075  0.0338248  0.03266466 0.03272267 0.03407389\n",
            " 0.03415919 0.03100976 0.02923202 0.02906824 0.02990422 0.03015331\n",
            " 0.03059348 0.03035463 0.0289727  0.02632486 0.02629074 0.02636239\n",
            " 0.02741675 0.02794564 0.02745429 0.02812989 0.02679915 0.02718814\n",
            " 0.02772385 0.0289727  0.02916378 0.02870996 0.02797976 0.02864172\n",
            " 0.02881233 0.02828344 0.03117864 0.03138558 0.03176479 0.03226971\n",
            " 0.03284906 0.03346609 0.03409974 0.03474013]\n",
            "8 day output [[0.03538366]]\n",
            "9 day input [0.02523979 0.02464607 0.02540699 0.02607918 0.02648182 0.02540699\n",
            " 0.03077773 0.02880209 0.02768972 0.02800706 0.02899317 0.02917402\n",
            " 0.02946064 0.03053547 0.02991446 0.03005777 0.0296176  0.02982574\n",
            " 0.03017719 0.03084257 0.03137145 0.03200611 0.03240534 0.03277385\n",
            " 0.03224838 0.0312452  0.03167855 0.0322552  0.03204365 0.03073338\n",
            " 0.03086986 0.03102682 0.03126909 0.03193105 0.0323678  0.03154888\n",
            " 0.03178091 0.03231321 0.03278068 0.03181845 0.03237463 0.03251453\n",
            " 0.03171949 0.03214943 0.03301953 0.03320037 0.0348348  0.03476314\n",
            " 0.03527156 0.03409777 0.03446287 0.03518625 0.0354524  0.03701176\n",
            " 0.03650676 0.03649311 0.03725061 0.03542169 0.03524426 0.03572538\n",
            " 0.0348075  0.0338248  0.03266466 0.03272267 0.03407389 0.03415919\n",
            " 0.03100976 0.02923202 0.02906824 0.02990422 0.03015331 0.03059348\n",
            " 0.03035463 0.0289727  0.02632486 0.02629074 0.02636239 0.02741675\n",
            " 0.02794564 0.02745429 0.02812989 0.02679915 0.02718814 0.02772385\n",
            " 0.0289727  0.02916378 0.02870996 0.02797976 0.02864172 0.02881233\n",
            " 0.02828344 0.03117864 0.03138558 0.03176479 0.03226971 0.03284906\n",
            " 0.03346609 0.03409974 0.03474013 0.03538366]\n",
            "9 day output [[0.03602983]]\n",
            "10 day input [0.02464607 0.02540699 0.02607918 0.02648182 0.02540699 0.03077773\n",
            " 0.02880209 0.02768972 0.02800706 0.02899317 0.02917402 0.02946064\n",
            " 0.03053547 0.02991446 0.03005777 0.0296176  0.02982574 0.03017719\n",
            " 0.03084257 0.03137145 0.03200611 0.03240534 0.03277385 0.03224838\n",
            " 0.0312452  0.03167855 0.0322552  0.03204365 0.03073338 0.03086986\n",
            " 0.03102682 0.03126909 0.03193105 0.0323678  0.03154888 0.03178091\n",
            " 0.03231321 0.03278068 0.03181845 0.03237463 0.03251453 0.03171949\n",
            " 0.03214943 0.03301953 0.03320037 0.0348348  0.03476314 0.03527156\n",
            " 0.03409777 0.03446287 0.03518625 0.0354524  0.03701176 0.03650676\n",
            " 0.03649311 0.03725061 0.03542169 0.03524426 0.03572538 0.0348075\n",
            " 0.0338248  0.03266466 0.03272267 0.03407389 0.03415919 0.03100976\n",
            " 0.02923202 0.02906824 0.02990422 0.03015331 0.03059348 0.03035463\n",
            " 0.0289727  0.02632486 0.02629074 0.02636239 0.02741675 0.02794564\n",
            " 0.02745429 0.02812989 0.02679915 0.02718814 0.02772385 0.0289727\n",
            " 0.02916378 0.02870996 0.02797976 0.02864172 0.02881233 0.02828344\n",
            " 0.03117864 0.03138558 0.03176479 0.03226971 0.03284906 0.03346609\n",
            " 0.03409974 0.03474013 0.03538366 0.03602983]\n",
            "10 day output [[0.03667923]]\n",
            "11 day input [0.02540699 0.02607918 0.02648182 0.02540699 0.03077773 0.02880209\n",
            " 0.02768972 0.02800706 0.02899317 0.02917402 0.02946064 0.03053547\n",
            " 0.02991446 0.03005777 0.0296176  0.02982574 0.03017719 0.03084257\n",
            " 0.03137145 0.03200611 0.03240534 0.03277385 0.03224838 0.0312452\n",
            " 0.03167855 0.0322552  0.03204365 0.03073338 0.03086986 0.03102682\n",
            " 0.03126909 0.03193105 0.0323678  0.03154888 0.03178091 0.03231321\n",
            " 0.03278068 0.03181845 0.03237463 0.03251453 0.03171949 0.03214943\n",
            " 0.03301953 0.03320037 0.0348348  0.03476314 0.03527156 0.03409777\n",
            " 0.03446287 0.03518625 0.0354524  0.03701176 0.03650676 0.03649311\n",
            " 0.03725061 0.03542169 0.03524426 0.03572538 0.0348075  0.0338248\n",
            " 0.03266466 0.03272267 0.03407389 0.03415919 0.03100976 0.02923202\n",
            " 0.02906824 0.02990422 0.03015331 0.03059348 0.03035463 0.0289727\n",
            " 0.02632486 0.02629074 0.02636239 0.02741675 0.02794564 0.02745429\n",
            " 0.02812989 0.02679915 0.02718814 0.02772385 0.0289727  0.02916378\n",
            " 0.02870996 0.02797976 0.02864172 0.02881233 0.02828344 0.03117864\n",
            " 0.03138558 0.03176479 0.03226971 0.03284906 0.03346609 0.03409974\n",
            " 0.03474013 0.03538366 0.03602983 0.03667923]\n",
            "11 day output [[0.03733271]]\n",
            "12 day input [0.02607918 0.02648182 0.02540699 0.03077773 0.02880209 0.02768972\n",
            " 0.02800706 0.02899317 0.02917402 0.02946064 0.03053547 0.02991446\n",
            " 0.03005777 0.0296176  0.02982574 0.03017719 0.03084257 0.03137145\n",
            " 0.03200611 0.03240534 0.03277385 0.03224838 0.0312452  0.03167855\n",
            " 0.0322552  0.03204365 0.03073338 0.03086986 0.03102682 0.03126909\n",
            " 0.03193105 0.0323678  0.03154888 0.03178091 0.03231321 0.03278068\n",
            " 0.03181845 0.03237463 0.03251453 0.03171949 0.03214943 0.03301953\n",
            " 0.03320037 0.0348348  0.03476314 0.03527156 0.03409777 0.03446287\n",
            " 0.03518625 0.0354524  0.03701176 0.03650676 0.03649311 0.03725061\n",
            " 0.03542169 0.03524426 0.03572538 0.0348075  0.0338248  0.03266466\n",
            " 0.03272267 0.03407389 0.03415919 0.03100976 0.02923202 0.02906824\n",
            " 0.02990422 0.03015331 0.03059348 0.03035463 0.0289727  0.02632486\n",
            " 0.02629074 0.02636239 0.02741675 0.02794564 0.02745429 0.02812989\n",
            " 0.02679915 0.02718814 0.02772385 0.0289727  0.02916378 0.02870996\n",
            " 0.02797976 0.02864172 0.02881233 0.02828344 0.03117864 0.03138558\n",
            " 0.03176479 0.03226971 0.03284906 0.03346609 0.03409974 0.03474013\n",
            " 0.03538366 0.03602983 0.03667923 0.03733271]\n",
            "12 day output [[0.03799105]]\n",
            "13 day input [0.02648182 0.02540699 0.03077773 0.02880209 0.02768972 0.02800706\n",
            " 0.02899317 0.02917402 0.02946064 0.03053547 0.02991446 0.03005777\n",
            " 0.0296176  0.02982574 0.03017719 0.03084257 0.03137145 0.03200611\n",
            " 0.03240534 0.03277385 0.03224838 0.0312452  0.03167855 0.0322552\n",
            " 0.03204365 0.03073338 0.03086986 0.03102682 0.03126909 0.03193105\n",
            " 0.0323678  0.03154888 0.03178091 0.03231321 0.03278068 0.03181845\n",
            " 0.03237463 0.03251453 0.03171949 0.03214943 0.03301953 0.03320037\n",
            " 0.0348348  0.03476314 0.03527156 0.03409777 0.03446287 0.03518625\n",
            " 0.0354524  0.03701176 0.03650676 0.03649311 0.03725061 0.03542169\n",
            " 0.03524426 0.03572538 0.0348075  0.0338248  0.03266466 0.03272267\n",
            " 0.03407389 0.03415919 0.03100976 0.02923202 0.02906824 0.02990422\n",
            " 0.03015331 0.03059348 0.03035463 0.0289727  0.02632486 0.02629074\n",
            " 0.02636239 0.02741675 0.02794564 0.02745429 0.02812989 0.02679915\n",
            " 0.02718814 0.02772385 0.0289727  0.02916378 0.02870996 0.02797976\n",
            " 0.02864172 0.02881233 0.02828344 0.03117864 0.03138558 0.03176479\n",
            " 0.03226971 0.03284906 0.03346609 0.03409974 0.03474013 0.03538366\n",
            " 0.03602983 0.03667923 0.03733271 0.03799105]\n",
            "13 day output [[0.03865489]]\n",
            "14 day input [0.02540699 0.03077773 0.02880209 0.02768972 0.02800706 0.02899317\n",
            " 0.02917402 0.02946064 0.03053547 0.02991446 0.03005777 0.0296176\n",
            " 0.02982574 0.03017719 0.03084257 0.03137145 0.03200611 0.03240534\n",
            " 0.03277385 0.03224838 0.0312452  0.03167855 0.0322552  0.03204365\n",
            " 0.03073338 0.03086986 0.03102682 0.03126909 0.03193105 0.0323678\n",
            " 0.03154888 0.03178091 0.03231321 0.03278068 0.03181845 0.03237463\n",
            " 0.03251453 0.03171949 0.03214943 0.03301953 0.03320037 0.0348348\n",
            " 0.03476314 0.03527156 0.03409777 0.03446287 0.03518625 0.0354524\n",
            " 0.03701176 0.03650676 0.03649311 0.03725061 0.03542169 0.03524426\n",
            " 0.03572538 0.0348075  0.0338248  0.03266466 0.03272267 0.03407389\n",
            " 0.03415919 0.03100976 0.02923202 0.02906824 0.02990422 0.03015331\n",
            " 0.03059348 0.03035463 0.0289727  0.02632486 0.02629074 0.02636239\n",
            " 0.02741675 0.02794564 0.02745429 0.02812989 0.02679915 0.02718814\n",
            " 0.02772385 0.0289727  0.02916378 0.02870996 0.02797976 0.02864172\n",
            " 0.02881233 0.02828344 0.03117864 0.03138558 0.03176479 0.03226971\n",
            " 0.03284906 0.03346609 0.03409974 0.03474013 0.03538366 0.03602983\n",
            " 0.03667923 0.03733271 0.03799105 0.03865489]\n",
            "14 day output [[0.03932472]]\n",
            "15 day input [0.03077773 0.02880209 0.02768972 0.02800706 0.02899317 0.02917402\n",
            " 0.02946064 0.03053547 0.02991446 0.03005777 0.0296176  0.02982574\n",
            " 0.03017719 0.03084257 0.03137145 0.03200611 0.03240534 0.03277385\n",
            " 0.03224838 0.0312452  0.03167855 0.0322552  0.03204365 0.03073338\n",
            " 0.03086986 0.03102682 0.03126909 0.03193105 0.0323678  0.03154888\n",
            " 0.03178091 0.03231321 0.03278068 0.03181845 0.03237463 0.03251453\n",
            " 0.03171949 0.03214943 0.03301953 0.03320037 0.0348348  0.03476314\n",
            " 0.03527156 0.03409777 0.03446287 0.03518625 0.0354524  0.03701176\n",
            " 0.03650676 0.03649311 0.03725061 0.03542169 0.03524426 0.03572538\n",
            " 0.0348075  0.0338248  0.03266466 0.03272267 0.03407389 0.03415919\n",
            " 0.03100976 0.02923202 0.02906824 0.02990422 0.03015331 0.03059348\n",
            " 0.03035463 0.0289727  0.02632486 0.02629074 0.02636239 0.02741675\n",
            " 0.02794564 0.02745429 0.02812989 0.02679915 0.02718814 0.02772385\n",
            " 0.0289727  0.02916378 0.02870996 0.02797976 0.02864172 0.02881233\n",
            " 0.02828344 0.03117864 0.03138558 0.03176479 0.03226971 0.03284906\n",
            " 0.03346609 0.03409974 0.03474013 0.03538366 0.03602983 0.03667923\n",
            " 0.03733271 0.03799105 0.03865489 0.03932472]\n",
            "15 day output [[0.04000095]]\n",
            "16 day input [0.02880209 0.02768972 0.02800706 0.02899317 0.02917402 0.02946064\n",
            " 0.03053547 0.02991446 0.03005777 0.0296176  0.02982574 0.03017719\n",
            " 0.03084257 0.03137145 0.03200611 0.03240534 0.03277385 0.03224838\n",
            " 0.0312452  0.03167855 0.0322552  0.03204365 0.03073338 0.03086986\n",
            " 0.03102682 0.03126909 0.03193105 0.0323678  0.03154888 0.03178091\n",
            " 0.03231321 0.03278068 0.03181845 0.03237463 0.03251453 0.03171949\n",
            " 0.03214943 0.03301953 0.03320037 0.0348348  0.03476314 0.03527156\n",
            " 0.03409777 0.03446287 0.03518625 0.0354524  0.03701176 0.03650676\n",
            " 0.03649311 0.03725061 0.03542169 0.03524426 0.03572538 0.0348075\n",
            " 0.0338248  0.03266466 0.03272267 0.03407389 0.03415919 0.03100976\n",
            " 0.02923202 0.02906824 0.02990422 0.03015331 0.03059348 0.03035463\n",
            " 0.0289727  0.02632486 0.02629074 0.02636239 0.02741675 0.02794564\n",
            " 0.02745429 0.02812989 0.02679915 0.02718814 0.02772385 0.0289727\n",
            " 0.02916378 0.02870996 0.02797976 0.02864172 0.02881233 0.02828344\n",
            " 0.03117864 0.03138558 0.03176479 0.03226971 0.03284906 0.03346609\n",
            " 0.03409974 0.03474013 0.03538366 0.03602983 0.03667923 0.03733271\n",
            " 0.03799105 0.03865489 0.03932472 0.04000095]\n",
            "16 day output [[0.04068397]]\n",
            "17 day input [0.02768972 0.02800706 0.02899317 0.02917402 0.02946064 0.03053547\n",
            " 0.02991446 0.03005777 0.0296176  0.02982574 0.03017719 0.03084257\n",
            " 0.03137145 0.03200611 0.03240534 0.03277385 0.03224838 0.0312452\n",
            " 0.03167855 0.0322552  0.03204365 0.03073338 0.03086986 0.03102682\n",
            " 0.03126909 0.03193105 0.0323678  0.03154888 0.03178091 0.03231321\n",
            " 0.03278068 0.03181845 0.03237463 0.03251453 0.03171949 0.03214943\n",
            " 0.03301953 0.03320037 0.0348348  0.03476314 0.03527156 0.03409777\n",
            " 0.03446287 0.03518625 0.0354524  0.03701176 0.03650676 0.03649311\n",
            " 0.03725061 0.03542169 0.03524426 0.03572538 0.0348075  0.0338248\n",
            " 0.03266466 0.03272267 0.03407389 0.03415919 0.03100976 0.02923202\n",
            " 0.02906824 0.02990422 0.03015331 0.03059348 0.03035463 0.0289727\n",
            " 0.02632486 0.02629074 0.02636239 0.02741675 0.02794564 0.02745429\n",
            " 0.02812989 0.02679915 0.02718814 0.02772385 0.0289727  0.02916378\n",
            " 0.02870996 0.02797976 0.02864172 0.02881233 0.02828344 0.03117864\n",
            " 0.03138558 0.03176479 0.03226971 0.03284906 0.03346609 0.03409974\n",
            " 0.03474013 0.03538366 0.03602983 0.03667923 0.03733271 0.03799105\n",
            " 0.03865489 0.03932472 0.04000095 0.04068397]\n",
            "17 day output [[0.04137409]]\n",
            "18 day input [0.02800706 0.02899317 0.02917402 0.02946064 0.03053547 0.02991446\n",
            " 0.03005777 0.0296176  0.02982574 0.03017719 0.03084257 0.03137145\n",
            " 0.03200611 0.03240534 0.03277385 0.03224838 0.0312452  0.03167855\n",
            " 0.0322552  0.03204365 0.03073338 0.03086986 0.03102682 0.03126909\n",
            " 0.03193105 0.0323678  0.03154888 0.03178091 0.03231321 0.03278068\n",
            " 0.03181845 0.03237463 0.03251453 0.03171949 0.03214943 0.03301953\n",
            " 0.03320037 0.0348348  0.03476314 0.03527156 0.03409777 0.03446287\n",
            " 0.03518625 0.0354524  0.03701176 0.03650676 0.03649311 0.03725061\n",
            " 0.03542169 0.03524426 0.03572538 0.0348075  0.0338248  0.03266466\n",
            " 0.03272267 0.03407389 0.03415919 0.03100976 0.02923202 0.02906824\n",
            " 0.02990422 0.03015331 0.03059348 0.03035463 0.0289727  0.02632486\n",
            " 0.02629074 0.02636239 0.02741675 0.02794564 0.02745429 0.02812989\n",
            " 0.02679915 0.02718814 0.02772385 0.0289727  0.02916378 0.02870996\n",
            " 0.02797976 0.02864172 0.02881233 0.02828344 0.03117864 0.03138558\n",
            " 0.03176479 0.03226971 0.03284906 0.03346609 0.03409974 0.03474013\n",
            " 0.03538366 0.03602983 0.03667923 0.03733271 0.03799105 0.03865489\n",
            " 0.03932472 0.04000095 0.04068397 0.04137409]\n",
            "18 day output [[0.0420716]]\n",
            "19 day input [0.02899317 0.02917402 0.02946064 0.03053547 0.02991446 0.03005777\n",
            " 0.0296176  0.02982574 0.03017719 0.03084257 0.03137145 0.03200611\n",
            " 0.03240534 0.03277385 0.03224838 0.0312452  0.03167855 0.0322552\n",
            " 0.03204365 0.03073338 0.03086986 0.03102682 0.03126909 0.03193105\n",
            " 0.0323678  0.03154888 0.03178091 0.03231321 0.03278068 0.03181845\n",
            " 0.03237463 0.03251453 0.03171949 0.03214943 0.03301953 0.03320037\n",
            " 0.0348348  0.03476314 0.03527156 0.03409777 0.03446287 0.03518625\n",
            " 0.0354524  0.03701176 0.03650676 0.03649311 0.03725061 0.03542169\n",
            " 0.03524426 0.03572538 0.0348075  0.0338248  0.03266466 0.03272267\n",
            " 0.03407389 0.03415919 0.03100976 0.02923202 0.02906824 0.02990422\n",
            " 0.03015331 0.03059348 0.03035463 0.0289727  0.02632486 0.02629074\n",
            " 0.02636239 0.02741675 0.02794564 0.02745429 0.02812989 0.02679915\n",
            " 0.02718814 0.02772385 0.0289727  0.02916378 0.02870996 0.02797976\n",
            " 0.02864172 0.02881233 0.02828344 0.03117864 0.03138558 0.03176479\n",
            " 0.03226971 0.03284906 0.03346609 0.03409974 0.03474013 0.03538366\n",
            " 0.03602983 0.03667923 0.03733271 0.03799105 0.03865489 0.03932472\n",
            " 0.04000095 0.04068397 0.04137409 0.0420716 ]\n",
            "19 day output [[0.04277676]]\n",
            "20 day input [0.02917402 0.02946064 0.03053547 0.02991446 0.03005777 0.0296176\n",
            " 0.02982574 0.03017719 0.03084257 0.03137145 0.03200611 0.03240534\n",
            " 0.03277385 0.03224838 0.0312452  0.03167855 0.0322552  0.03204365\n",
            " 0.03073338 0.03086986 0.03102682 0.03126909 0.03193105 0.0323678\n",
            " 0.03154888 0.03178091 0.03231321 0.03278068 0.03181845 0.03237463\n",
            " 0.03251453 0.03171949 0.03214943 0.03301953 0.03320037 0.0348348\n",
            " 0.03476314 0.03527156 0.03409777 0.03446287 0.03518625 0.0354524\n",
            " 0.03701176 0.03650676 0.03649311 0.03725061 0.03542169 0.03524426\n",
            " 0.03572538 0.0348075  0.0338248  0.03266466 0.03272267 0.03407389\n",
            " 0.03415919 0.03100976 0.02923202 0.02906824 0.02990422 0.03015331\n",
            " 0.03059348 0.03035463 0.0289727  0.02632486 0.02629074 0.02636239\n",
            " 0.02741675 0.02794564 0.02745429 0.02812989 0.02679915 0.02718814\n",
            " 0.02772385 0.0289727  0.02916378 0.02870996 0.02797976 0.02864172\n",
            " 0.02881233 0.02828344 0.03117864 0.03138558 0.03176479 0.03226971\n",
            " 0.03284906 0.03346609 0.03409974 0.03474013 0.03538366 0.03602983\n",
            " 0.03667923 0.03733271 0.03799105 0.03865489 0.03932472 0.04000095\n",
            " 0.04068397 0.04137409 0.0420716  0.04277676]\n",
            "20 day output [[0.04348982]]\n",
            "21 day input [0.02946064 0.03053547 0.02991446 0.03005777 0.0296176  0.02982574\n",
            " 0.03017719 0.03084257 0.03137145 0.03200611 0.03240534 0.03277385\n",
            " 0.03224838 0.0312452  0.03167855 0.0322552  0.03204365 0.03073338\n",
            " 0.03086986 0.03102682 0.03126909 0.03193105 0.0323678  0.03154888\n",
            " 0.03178091 0.03231321 0.03278068 0.03181845 0.03237463 0.03251453\n",
            " 0.03171949 0.03214943 0.03301953 0.03320037 0.0348348  0.03476314\n",
            " 0.03527156 0.03409777 0.03446287 0.03518625 0.0354524  0.03701176\n",
            " 0.03650676 0.03649311 0.03725061 0.03542169 0.03524426 0.03572538\n",
            " 0.0348075  0.0338248  0.03266466 0.03272267 0.03407389 0.03415919\n",
            " 0.03100976 0.02923202 0.02906824 0.02990422 0.03015331 0.03059348\n",
            " 0.03035463 0.0289727  0.02632486 0.02629074 0.02636239 0.02741675\n",
            " 0.02794564 0.02745429 0.02812989 0.02679915 0.02718814 0.02772385\n",
            " 0.0289727  0.02916378 0.02870996 0.02797976 0.02864172 0.02881233\n",
            " 0.02828344 0.03117864 0.03138558 0.03176479 0.03226971 0.03284906\n",
            " 0.03346609 0.03409974 0.03474013 0.03538366 0.03602983 0.03667923\n",
            " 0.03733271 0.03799105 0.03865489 0.03932472 0.04000095 0.04068397\n",
            " 0.04137409 0.0420716  0.04277676 0.04348982]\n",
            "21 day output [[0.04421101]]\n",
            "22 day input [0.03053547 0.02991446 0.03005777 0.0296176  0.02982574 0.03017719\n",
            " 0.03084257 0.03137145 0.03200611 0.03240534 0.03277385 0.03224838\n",
            " 0.0312452  0.03167855 0.0322552  0.03204365 0.03073338 0.03086986\n",
            " 0.03102682 0.03126909 0.03193105 0.0323678  0.03154888 0.03178091\n",
            " 0.03231321 0.03278068 0.03181845 0.03237463 0.03251453 0.03171949\n",
            " 0.03214943 0.03301953 0.03320037 0.0348348  0.03476314 0.03527156\n",
            " 0.03409777 0.03446287 0.03518625 0.0354524  0.03701176 0.03650676\n",
            " 0.03649311 0.03725061 0.03542169 0.03524426 0.03572538 0.0348075\n",
            " 0.0338248  0.03266466 0.03272267 0.03407389 0.03415919 0.03100976\n",
            " 0.02923202 0.02906824 0.02990422 0.03015331 0.03059348 0.03035463\n",
            " 0.0289727  0.02632486 0.02629074 0.02636239 0.02741675 0.02794564\n",
            " 0.02745429 0.02812989 0.02679915 0.02718814 0.02772385 0.0289727\n",
            " 0.02916378 0.02870996 0.02797976 0.02864172 0.02881233 0.02828344\n",
            " 0.03117864 0.03138558 0.03176479 0.03226971 0.03284906 0.03346609\n",
            " 0.03409974 0.03474013 0.03538366 0.03602983 0.03667923 0.03733271\n",
            " 0.03799105 0.03865489 0.03932472 0.04000095 0.04068397 0.04137409\n",
            " 0.0420716  0.04277676 0.04348982 0.04421101]\n",
            "22 day output [[0.04494054]]\n",
            "23 day input [0.02991446 0.03005777 0.0296176  0.02982574 0.03017719 0.03084257\n",
            " 0.03137145 0.03200611 0.03240534 0.03277385 0.03224838 0.0312452\n",
            " 0.03167855 0.0322552  0.03204365 0.03073338 0.03086986 0.03102682\n",
            " 0.03126909 0.03193105 0.0323678  0.03154888 0.03178091 0.03231321\n",
            " 0.03278068 0.03181845 0.03237463 0.03251453 0.03171949 0.03214943\n",
            " 0.03301953 0.03320037 0.0348348  0.03476314 0.03527156 0.03409777\n",
            " 0.03446287 0.03518625 0.0354524  0.03701176 0.03650676 0.03649311\n",
            " 0.03725061 0.03542169 0.03524426 0.03572538 0.0348075  0.0338248\n",
            " 0.03266466 0.03272267 0.03407389 0.03415919 0.03100976 0.02923202\n",
            " 0.02906824 0.02990422 0.03015331 0.03059348 0.03035463 0.0289727\n",
            " 0.02632486 0.02629074 0.02636239 0.02741675 0.02794564 0.02745429\n",
            " 0.02812989 0.02679915 0.02718814 0.02772385 0.0289727  0.02916378\n",
            " 0.02870996 0.02797976 0.02864172 0.02881233 0.02828344 0.03117864\n",
            " 0.03138558 0.03176479 0.03226971 0.03284906 0.03346609 0.03409974\n",
            " 0.03474013 0.03538366 0.03602983 0.03667923 0.03733271 0.03799105\n",
            " 0.03865489 0.03932472 0.04000095 0.04068397 0.04137409 0.0420716\n",
            " 0.04277676 0.04348982 0.04421101 0.04494054]\n",
            "23 day output [[0.04567859]]\n",
            "24 day input [0.03005777 0.0296176  0.02982574 0.03017719 0.03084257 0.03137145\n",
            " 0.03200611 0.03240534 0.03277385 0.03224838 0.0312452  0.03167855\n",
            " 0.0322552  0.03204365 0.03073338 0.03086986 0.03102682 0.03126909\n",
            " 0.03193105 0.0323678  0.03154888 0.03178091 0.03231321 0.03278068\n",
            " 0.03181845 0.03237463 0.03251453 0.03171949 0.03214943 0.03301953\n",
            " 0.03320037 0.0348348  0.03476314 0.03527156 0.03409777 0.03446287\n",
            " 0.03518625 0.0354524  0.03701176 0.03650676 0.03649311 0.03725061\n",
            " 0.03542169 0.03524426 0.03572538 0.0348075  0.0338248  0.03266466\n",
            " 0.03272267 0.03407389 0.03415919 0.03100976 0.02923202 0.02906824\n",
            " 0.02990422 0.03015331 0.03059348 0.03035463 0.0289727  0.02632486\n",
            " 0.02629074 0.02636239 0.02741675 0.02794564 0.02745429 0.02812989\n",
            " 0.02679915 0.02718814 0.02772385 0.0289727  0.02916378 0.02870996\n",
            " 0.02797976 0.02864172 0.02881233 0.02828344 0.03117864 0.03138558\n",
            " 0.03176479 0.03226971 0.03284906 0.03346609 0.03409974 0.03474013\n",
            " 0.03538366 0.03602983 0.03667923 0.03733271 0.03799105 0.03865489\n",
            " 0.03932472 0.04000095 0.04068397 0.04137409 0.0420716  0.04277676\n",
            " 0.04348982 0.04421101 0.04494054 0.04567859]\n",
            "24 day output [[0.04642535]]\n",
            "25 day input [0.0296176  0.02982574 0.03017719 0.03084257 0.03137145 0.03200611\n",
            " 0.03240534 0.03277385 0.03224838 0.0312452  0.03167855 0.0322552\n",
            " 0.03204365 0.03073338 0.03086986 0.03102682 0.03126909 0.03193105\n",
            " 0.0323678  0.03154888 0.03178091 0.03231321 0.03278068 0.03181845\n",
            " 0.03237463 0.03251453 0.03171949 0.03214943 0.03301953 0.03320037\n",
            " 0.0348348  0.03476314 0.03527156 0.03409777 0.03446287 0.03518625\n",
            " 0.0354524  0.03701176 0.03650676 0.03649311 0.03725061 0.03542169\n",
            " 0.03524426 0.03572538 0.0348075  0.0338248  0.03266466 0.03272267\n",
            " 0.03407389 0.03415919 0.03100976 0.02923202 0.02906824 0.02990422\n",
            " 0.03015331 0.03059348 0.03035463 0.0289727  0.02632486 0.02629074\n",
            " 0.02636239 0.02741675 0.02794564 0.02745429 0.02812989 0.02679915\n",
            " 0.02718814 0.02772385 0.0289727  0.02916378 0.02870996 0.02797976\n",
            " 0.02864172 0.02881233 0.02828344 0.03117864 0.03138558 0.03176479\n",
            " 0.03226971 0.03284906 0.03346609 0.03409974 0.03474013 0.03538366\n",
            " 0.03602983 0.03667923 0.03733271 0.03799105 0.03865489 0.03932472\n",
            " 0.04000095 0.04068397 0.04137409 0.0420716  0.04277676 0.04348982\n",
            " 0.04421101 0.04494054 0.04567859 0.04642535]\n",
            "25 day output [[0.04718099]]\n",
            "26 day input [0.02982574 0.03017719 0.03084257 0.03137145 0.03200611 0.03240534\n",
            " 0.03277385 0.03224838 0.0312452  0.03167855 0.0322552  0.03204365\n",
            " 0.03073338 0.03086986 0.03102682 0.03126909 0.03193105 0.0323678\n",
            " 0.03154888 0.03178091 0.03231321 0.03278068 0.03181845 0.03237463\n",
            " 0.03251453 0.03171949 0.03214943 0.03301953 0.03320037 0.0348348\n",
            " 0.03476314 0.03527156 0.03409777 0.03446287 0.03518625 0.0354524\n",
            " 0.03701176 0.03650676 0.03649311 0.03725061 0.03542169 0.03524426\n",
            " 0.03572538 0.0348075  0.0338248  0.03266466 0.03272267 0.03407389\n",
            " 0.03415919 0.03100976 0.02923202 0.02906824 0.02990422 0.03015331\n",
            " 0.03059348 0.03035463 0.0289727  0.02632486 0.02629074 0.02636239\n",
            " 0.02741675 0.02794564 0.02745429 0.02812989 0.02679915 0.02718814\n",
            " 0.02772385 0.0289727  0.02916378 0.02870996 0.02797976 0.02864172\n",
            " 0.02881233 0.02828344 0.03117864 0.03138558 0.03176479 0.03226971\n",
            " 0.03284906 0.03346609 0.03409974 0.03474013 0.03538366 0.03602983\n",
            " 0.03667923 0.03733271 0.03799105 0.03865489 0.03932472 0.04000095\n",
            " 0.04068397 0.04137409 0.0420716  0.04277676 0.04348982 0.04421101\n",
            " 0.04494054 0.04567859 0.04642535 0.04718099]\n",
            "26 day output [[0.04794566]]\n",
            "27 day input [0.03017719 0.03084257 0.03137145 0.03200611 0.03240534 0.03277385\n",
            " 0.03224838 0.0312452  0.03167855 0.0322552  0.03204365 0.03073338\n",
            " 0.03086986 0.03102682 0.03126909 0.03193105 0.0323678  0.03154888\n",
            " 0.03178091 0.03231321 0.03278068 0.03181845 0.03237463 0.03251453\n",
            " 0.03171949 0.03214943 0.03301953 0.03320037 0.0348348  0.03476314\n",
            " 0.03527156 0.03409777 0.03446287 0.03518625 0.0354524  0.03701176\n",
            " 0.03650676 0.03649311 0.03725061 0.03542169 0.03524426 0.03572538\n",
            " 0.0348075  0.0338248  0.03266466 0.03272267 0.03407389 0.03415919\n",
            " 0.03100976 0.02923202 0.02906824 0.02990422 0.03015331 0.03059348\n",
            " 0.03035463 0.0289727  0.02632486 0.02629074 0.02636239 0.02741675\n",
            " 0.02794564 0.02745429 0.02812989 0.02679915 0.02718814 0.02772385\n",
            " 0.0289727  0.02916378 0.02870996 0.02797976 0.02864172 0.02881233\n",
            " 0.02828344 0.03117864 0.03138558 0.03176479 0.03226971 0.03284906\n",
            " 0.03346609 0.03409974 0.03474013 0.03538366 0.03602983 0.03667923\n",
            " 0.03733271 0.03799105 0.03865489 0.03932472 0.04000095 0.04068397\n",
            " 0.04137409 0.0420716  0.04277676 0.04348982 0.04421101 0.04494054\n",
            " 0.04567859 0.04642535 0.04718099 0.04794566]\n",
            "27 day output [[0.04871956]]\n",
            "28 day input [0.03084257 0.03137145 0.03200611 0.03240534 0.03277385 0.03224838\n",
            " 0.0312452  0.03167855 0.0322552  0.03204365 0.03073338 0.03086986\n",
            " 0.03102682 0.03126909 0.03193105 0.0323678  0.03154888 0.03178091\n",
            " 0.03231321 0.03278068 0.03181845 0.03237463 0.03251453 0.03171949\n",
            " 0.03214943 0.03301953 0.03320037 0.0348348  0.03476314 0.03527156\n",
            " 0.03409777 0.03446287 0.03518625 0.0354524  0.03701176 0.03650676\n",
            " 0.03649311 0.03725061 0.03542169 0.03524426 0.03572538 0.0348075\n",
            " 0.0338248  0.03266466 0.03272267 0.03407389 0.03415919 0.03100976\n",
            " 0.02923202 0.02906824 0.02990422 0.03015331 0.03059348 0.03035463\n",
            " 0.0289727  0.02632486 0.02629074 0.02636239 0.02741675 0.02794564\n",
            " 0.02745429 0.02812989 0.02679915 0.02718814 0.02772385 0.0289727\n",
            " 0.02916378 0.02870996 0.02797976 0.02864172 0.02881233 0.02828344\n",
            " 0.03117864 0.03138558 0.03176479 0.03226971 0.03284906 0.03346609\n",
            " 0.03409974 0.03474013 0.03538366 0.03602983 0.03667923 0.03733271\n",
            " 0.03799105 0.03865489 0.03932472 0.04000095 0.04068397 0.04137409\n",
            " 0.0420716  0.04277676 0.04348982 0.04421101 0.04494054 0.04567859\n",
            " 0.04642535 0.04718099 0.04794566 0.04871956]\n",
            "28 day output [[0.04950281]]\n",
            "29 day input [0.03137145 0.03200611 0.03240534 0.03277385 0.03224838 0.0312452\n",
            " 0.03167855 0.0322552  0.03204365 0.03073338 0.03086986 0.03102682\n",
            " 0.03126909 0.03193105 0.0323678  0.03154888 0.03178091 0.03231321\n",
            " 0.03278068 0.03181845 0.03237463 0.03251453 0.03171949 0.03214943\n",
            " 0.03301953 0.03320037 0.0348348  0.03476314 0.03527156 0.03409777\n",
            " 0.03446287 0.03518625 0.0354524  0.03701176 0.03650676 0.03649311\n",
            " 0.03725061 0.03542169 0.03524426 0.03572538 0.0348075  0.0338248\n",
            " 0.03266466 0.03272267 0.03407389 0.03415919 0.03100976 0.02923202\n",
            " 0.02906824 0.02990422 0.03015331 0.03059348 0.03035463 0.0289727\n",
            " 0.02632486 0.02629074 0.02636239 0.02741675 0.02794564 0.02745429\n",
            " 0.02812989 0.02679915 0.02718814 0.02772385 0.0289727  0.02916378\n",
            " 0.02870996 0.02797976 0.02864172 0.02881233 0.02828344 0.03117864\n",
            " 0.03138558 0.03176479 0.03226971 0.03284906 0.03346609 0.03409974\n",
            " 0.03474013 0.03538366 0.03602983 0.03667923 0.03733271 0.03799105\n",
            " 0.03865489 0.03932472 0.04000095 0.04068397 0.04137409 0.0420716\n",
            " 0.04277676 0.04348982 0.04421101 0.04494054 0.04567859 0.04642535\n",
            " 0.04718099 0.04794566 0.04871956 0.04950281]\n",
            "29 day output [[0.05029557]]\n",
            "[[0.031178638339042664], [0.03138558194041252], [0.031764790415763855], [0.032269708812236786], [0.032849062234163284], [0.03346608579158783], [0.03409974277019501], [0.034740131348371506], [0.03538366034626961], [0.03602983430027962], [0.036679234355688095], [0.03733270987868309], [0.037991054356098175], [0.03865488991141319], [0.039324719458818436], [0.040000952780246735], [0.040683966130018234], [0.0413740910589695], [0.042071595788002014], [0.04277675598859787], [0.04348982125520706], [0.0442110113799572], [0.044940538704395294], [0.04567858949303627], [0.04642534628510475], [0.04718099161982536], [0.04794566333293915], [0.048719558864831924], [0.04950280860066414], [0.050295569002628326]]\n"
          ]
        }
      ]
    },
    {
      "cell_type": "code",
      "source": [
        "day_new=np.arange(1,101)\n",
        "day_pred=np.arange(101,131)"
      ],
      "metadata": {
        "id": "bkZO_eOu3jwF"
      },
      "execution_count": null,
      "outputs": []
    },
    {
      "cell_type": "code",
      "source": [
        "import matplotlib.pyplot as plt\n",
        "len(df1)\n"
      ],
      "metadata": {
        "colab": {
          "base_uri": "https://localhost:8080/"
        },
        "id": "Lz6CW7KG3jmv",
        "outputId": "abbe63db-2b1d-4d94-b18d-e297b1de45ac"
      },
      "execution_count": null,
      "outputs": [
        {
          "output_type": "execute_result",
          "data": {
            "text/plain": [
              "1256"
            ]
          },
          "metadata": {},
          "execution_count": 42
        }
      ]
    },
    {
      "cell_type": "code",
      "source": [
        "plt.plot(day_new,scaler.inverse_transform(df1[1156:]))\n",
        "plt.plot(day_pred,scaler.inverse_transform(lst_output))"
      ],
      "metadata": {
        "colab": {
          "base_uri": "https://localhost:8080/",
          "height": 447
        },
        "id": "T1J_2Ae03jjU",
        "outputId": "f8bad53f-1f07-40fa-c532-442272de8b14"
      },
      "execution_count": null,
      "outputs": [
        {
          "output_type": "execute_result",
          "data": {
            "text/plain": [
              "[<matplotlib.lines.Line2D at 0x7e663bd0d0c0>]"
            ]
          },
          "metadata": {},
          "execution_count": 44
        },
        {
          "output_type": "display_data",
          "data": {
            "text/plain": [
              "<Figure size 640x480 with 1 Axes>"
            ],
            "image/png": "[encoded data removed]"
          },
          "metadata": {}
        }
      ]
    },
    {
      "cell_type": "code",
      "source": [
        "df3=df1.tolist()\n",
        "df3.extend(lst_output)\n",
        "plt.plot(df3[1200:])"
      ],
      "metadata": {
        "colab": {
          "base_uri": "https://localhost:8080/",
          "height": 447
        },
        "id": "8Qlo_slk3jgd",
        "outputId": "059156e4-d4be-4602-9b7c-63c6eb523ec3"
      },
      "execution_count": null,
      "outputs": [
        {
          "output_type": "execute_result",
          "data": {
            "text/plain": [
              "[<matplotlib.lines.Line2D at 0x7e663bd8b220>]"
            ]
          },
          "metadata": {},
          "execution_count": 45
        },
        {
          "output_type": "display_data",
          "data": {
            "text/plain": [
              "<Figure size 640x480 with 1 Axes>"
            ],
            "image/png": "[encoded data removed]"
          },
          "metadata": {}
        }
      ]
    },
    {
      "cell_type": "code",
      "source": [
        "df3=scaler.inverse_transform(df3).tolist()"
      ],
      "metadata": {
        "id": "K61-qDH_3jdw"
      },
      "execution_count": null,
      "outputs": []
    },
    {
      "cell_type": "code",
      "source": [
        "plt.plot(df3)"
      ],
      "metadata": {
        "colab": {
          "base_uri": "https://localhost:8080/",
          "height": 447
        },
        "id": "D3jlxnbU3ja-",
        "outputId": "da563c6b-8fea-4819-a5d5-7786bef1cd50"
      },
      "execution_count": null,
      "outputs": [
        {
          "output_type": "execute_result",
          "data": {
            "text/plain": [
              "[<matplotlib.lines.Line2D at 0x7e663bfcad70>]"
            ]
          },
          "metadata": {},
          "execution_count": 36
        },
        {
          "output_type": "display_data",
          "data": {
            "text/plain": [
              "<Figure size 640x480 with 1 Axes>"
            ],
            "image/png": "[encoded data removed]"
          },
          "metadata": {}
        }
      ]
    }
  ],
  "metadata": {
    "colab": {
      "provenance": []
    },
    "kernelspec": {
      "display_name": "Python 3",
      "name": "python3"
    },
    "language_info": {
      "name": "python"
    }
  },
  "nbformat": 4,
  "nbformat_minor": 0
}